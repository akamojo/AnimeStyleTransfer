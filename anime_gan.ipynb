{
  "nbformat": 4,
  "nbformat_minor": 0,
  "metadata": {
    "accelerator": "GPU",
    "colab": {
      "name": "anime_gan.ipynb",
      "provenance": [],
      "collapsed_sections": [],
      "toc_visible": true,
      "machine_shape": "hm"
    },
    "kernelspec": {
      "display_name": "Python 3",
      "language": "python",
      "name": "python3"
    },
    "language_info": {
      "codemirror_mode": {
        "name": "ipython",
        "version": 3
      },
      "file_extension": ".py",
      "mimetype": "text/x-python",
      "name": "python",
      "nbconvert_exporter": "python",
      "pygments_lexer": "ipython3",
      "version": "3.7.3"
    },
    "toc": {
      "base_numbering": 1,
      "nav_menu": {},
      "number_sections": true,
      "sideBar": true,
      "skip_h1_title": false,
      "title_cell": "Table of Contents",
      "title_sidebar": "Contents",
      "toc_cell": false,
      "toc_position": {},
      "toc_section_display": true,
      "toc_window_display": true
    }
  },
  "cells": [
    {
      "cell_type": "markdown",
      "metadata": {
        "colab_type": "text",
        "id": "l0m55IdxC6Sr"
      },
      "source": [
        "## Imports"
      ]
    },
    {
      "cell_type": "code",
      "metadata": {
        "ExecuteTime": {
          "end_time": "2019-12-13T12:31:53.359196Z",
          "start_time": "2019-12-13T12:31:51.146208Z"
        },
        "colab_type": "code",
        "id": "4WlAL9Qb4D6u",
        "colab": {}
      },
      "source": [
        "from keras.models import Sequential\n",
        "from keras.optimizers import Adam\n",
        "from keras.layers import Dense\n",
        "from keras.layers import Conv2D\n",
        "from keras.layers import Flatten\n",
        "from keras.layers import Dropout\n",
        "from keras.layers import LeakyReLU\n",
        "from keras.utils.vis_utils import plot_model\n",
        "from keras.layers import Reshape\n",
        "from keras.layers import Conv2DTranspose\n",
        "\n",
        "import numpy as np\n",
        "import matplotlib.pyplot as plt\n",
        "import time\n",
        "import os\n",
        "import cv2"
      ],
      "execution_count": 0,
      "outputs": []
    },
    {
      "cell_type": "markdown",
      "metadata": {
        "colab_type": "text",
        "id": "HjK-OYOPC85Q"
      },
      "source": [
        "## Load data"
      ]
    },
    {
      "cell_type": "markdown",
      "metadata": {
        "id": "ejJitge0nBeP",
        "colab_type": "text"
      },
      "source": [
        "a) Zipped (on `Google Colab`)\n",
        "\n",
        "\n"
      ]
    },
    {
      "cell_type": "code",
      "metadata": {
        "id": "8RGL70sMSrFV",
        "colab_type": "code",
        "colab": {}
      },
      "source": [
        "import sys\n",
        "from zipfile import ZipFile\n",
        "from PIL import Image\n",
        "\n",
        "def load_data_from_zip(path, limit=None):\n",
        "  images = []\n",
        "  with ZipFile(path) as archive:\n",
        "    entries = archive.infolist() if not limit else archive.infolist()[:limit]\n",
        "    for idx, entry in enumerate(entries):\n",
        "      with archive.open(entry) as file:\n",
        "        if file.name.endswith('.jpg'):\n",
        "          with Image.open(file) as img:\n",
        "            images.append(np.asarray(img))\n",
        "  return np.array(images)\n"
      ],
      "execution_count": 0,
      "outputs": []
    },
    {
      "cell_type": "markdown",
      "metadata": {
        "id": "vZIf12FhnE_u",
        "colab_type": "text"
      },
      "source": [
        "b) Using `openCV`"
      ]
    },
    {
      "cell_type": "code",
      "metadata": {
        "ExecuteTime": {
          "end_time": "2019-12-13T12:31:57.850781Z",
          "start_time": "2019-12-13T12:31:57.847147Z"
        },
        "id": "LHMTCPpd3zdz",
        "colab_type": "code",
        "colab": {}
      },
      "source": [
        "def load_data(path):\n",
        "  return np.array([cv2.imread(os.path.join(path, f)) for f in os.listdir(path)])"
      ],
      "execution_count": 0,
      "outputs": []
    },
    {
      "cell_type": "code",
      "metadata": {
        "ExecuteTime": {
          "end_time": "2019-12-13T12:32:22.452208Z",
          "start_time": "2019-12-13T12:32:00.584947Z"
        },
        "colab_type": "code",
        "id": "y1CeWmJE0_V8",
        "colab": {
          "base_uri": "https://localhost:8080/",
          "height": 33
        },
        "outputId": "19178206-2e95-418b-eefd-30f0e3825063"
      },
      "source": [
        "path = '32x32.zip'\n",
        "trainX = load_data_from_zip(path)\n",
        "print('Train', trainX.shape)"
      ],
      "execution_count": 5,
      "outputs": [
        {
          "output_type": "stream",
          "text": [
            "Train (63569, 32, 32, 3)\n"
          ],
          "name": "stdout"
        }
      ]
    },
    {
      "cell_type": "code",
      "metadata": {
        "ExecuteTime": {
          "end_time": "2019-12-13T12:32:29.864528Z",
          "start_time": "2019-12-13T12:32:29.701141Z"
        },
        "id": "AkHyreej3zeG",
        "colab_type": "code",
        "outputId": "deb9636b-a643-412f-fb34-e1a8d3192fe5",
        "colab": {
          "base_uri": "https://localhost:8080/",
          "height": 266
        }
      },
      "source": [
        "plt.imshow(trainX[0])\n",
        "plt.show()"
      ],
      "execution_count": 6,
      "outputs": [
        {
          "output_type": "display_data",
          "data": {
            "image/png": "[encoded data removed]",
            "text/plain": [
              "<Figure size 432x288 with 1 Axes>"
            ]
          },
          "metadata": {
            "tags": []
          }
        }
      ]
    },
    {
      "cell_type": "markdown",
      "metadata": {
        "colab_type": "text",
        "id": "cPF4rDNbDAPB"
      },
      "source": [
        "## Preview cutie anime facezzz"
      ]
    },
    {
      "cell_type": "code",
      "metadata": {
        "ExecuteTime": {
          "end_time": "2019-12-13T12:32:33.952254Z",
          "start_time": "2019-12-13T12:32:33.386115Z"
        },
        "colab_type": "code",
        "id": "YTimIzCN1nm8",
        "outputId": "368f9544-88e5-4c10-dc21-e75cc053e850",
        "colab": {
          "base_uri": "https://localhost:8080/",
          "height": 248
        }
      },
      "source": [
        "# plot images from the training dataset\n",
        "for i in range(16):\n",
        "    # define subplot\n",
        "    plt.subplot(4, 4, 1 + i)\n",
        "    # turn off axis\n",
        "    plt.axis('off')\n",
        "    # plot raw pixel data\n",
        "    plt.imshow(trainX[i])\n",
        "    \n",
        "plt.show()"
      ],
      "execution_count": 7,
      "outputs": [
        {
          "output_type": "display_data",
          "data": {
            "image/png": "[encoded data removed]",
            "text/plain": [
              "<Figure size 432x288 with 16 Axes>"
            ]
          },
          "metadata": {
            "tags": []
          }
        }
      ]
    },
    {
      "cell_type": "markdown",
      "metadata": {
        "colab_type": "text",
        "id": "xilXpC6kDDvv"
      },
      "source": [
        "## Define the Discriminator"
      ]
    },
    {
      "cell_type": "code",
      "metadata": {
        "ExecuteTime": {
          "end_time": "2019-12-13T12:32:38.336749Z",
          "start_time": "2019-12-13T12:32:38.152864Z"
        },
        "colab_type": "code",
        "id": "ENGUKxwT2pIY",
        "outputId": "4e14e362-ff5c-46df-dbc4-8319b06609af",
        "colab": {
          "base_uri": "https://localhost:8080/",
          "height": 417
        }
      },
      "source": [
        "# define the standalone discriminator model\n",
        "def define_discriminator(in_shape=(32,32,3)):\n",
        "    model = Sequential()\n",
        "\n",
        "    model.add(Conv2D(64, (3,3), strides=(2, 2), padding='same', input_shape=in_shape))\n",
        "    model.add(LeakyReLU())\n",
        "    model.add(Dropout(0.4))\n",
        "\n",
        "    model.add(Conv2D(64, (3,3), strides=(2, 2), padding='same'))\n",
        "    model.add(LeakyReLU())\n",
        "    model.add(Dropout(0.4))\n",
        "\n",
        "    model.add(Flatten())\n",
        "    model.add(Dense(1, activation='sigmoid'))\n",
        "    # compile model\n",
        "    opt = Adam(lr=0.0002, beta_1=0.5)\n",
        "    model.compile(loss='binary_crossentropy', optimizer=opt, metrics=['accuracy'])\n",
        "    return model\n",
        "\n",
        "# define model\n",
        "model = define_discriminator()\n",
        "# summarize the model\n",
        "model.summary()"
      ],
      "execution_count": 133,
      "outputs": [
        {
          "output_type": "stream",
          "text": [
            "Model: \"sequential_66\"\n",
            "_________________________________________________________________\n",
            "Layer (type)                 Output Shape              Param #   \n",
            "=================================================================\n",
            "conv2d_35 (Conv2D)           (None, 16, 16, 64)        1792      \n",
            "_________________________________________________________________\n",
            "leaky_re_lu_157 (LeakyReLU)  (None, 16, 16, 64)        0         \n",
            "_________________________________________________________________\n",
            "dropout_27 (Dropout)         (None, 16, 16, 64)        0         \n",
            "_________________________________________________________________\n",
            "conv2d_36 (Conv2D)           (None, 8, 8, 64)          36928     \n",
            "_________________________________________________________________\n",
            "leaky_re_lu_158 (LeakyReLU)  (None, 8, 8, 64)          0         \n",
            "_________________________________________________________________\n",
            "dropout_28 (Dropout)         (None, 8, 8, 64)          0         \n",
            "_________________________________________________________________\n",
            "flatten_14 (Flatten)         (None, 4096)              0         \n",
            "_________________________________________________________________\n",
            "dense_55 (Dense)             (None, 1)                 4097      \n",
            "=================================================================\n",
            "Total params: 42,817\n",
            "Trainable params: 42,817\n",
            "Non-trainable params: 0\n",
            "_________________________________________________________________\n"
          ],
          "name": "stdout"
        }
      ]
    },
    {
      "cell_type": "markdown",
      "metadata": {
        "colab_type": "text",
        "id": "f3ylUV_jDK3q"
      },
      "source": [
        "### Prepare data for training"
      ]
    },
    {
      "cell_type": "code",
      "metadata": {
        "ExecuteTime": {
          "end_time": "2019-12-13T12:32:42.285436Z",
          "start_time": "2019-12-13T12:32:41.345057Z"
        },
        "colab_type": "code",
        "id": "6nBrX5AN3Fki",
        "outputId": "83051163-a250-430e-a21f-4822d700b943",
        "colab": {
          "base_uri": "https://localhost:8080/",
          "height": 33
        }
      },
      "source": [
        "def convert_trainX(trainX):\n",
        "    X = trainX.astype('float32')\n",
        "    X = X / 255.0\n",
        "    return X\n",
        "\n",
        "dataset = convert_trainX(trainX)\n",
        "dataset.shape"
      ],
      "execution_count": 9,
      "outputs": [
        {
          "output_type": "execute_result",
          "data": {
            "text/plain": [
              "(63569, 32, 32, 3)"
            ]
          },
          "metadata": {
            "tags": []
          },
          "execution_count": 9
        }
      ]
    },
    {
      "cell_type": "markdown",
      "metadata": {
        "colab_type": "text",
        "id": "qFgaAvurDXWZ"
      },
      "source": [
        "### Define methods for generating:\n",
        "- real samples (just sample from the dataset)\n",
        "- random fake samples - all the values are random and they represent noise"
      ]
    },
    {
      "cell_type": "code",
      "metadata": {
        "ExecuteTime": {
          "end_time": "2019-12-13T12:32:46.597075Z",
          "start_time": "2019-12-13T12:32:46.589004Z"
        },
        "colab_type": "code",
        "id": "gM_JnjuV3_HZ",
        "colab": {}
      },
      "source": [
        "# select real samples + their labels: 1 for REAL as 0 represents FAKE\n",
        "def generate_real_samples(dataset, n_samples):\n",
        "    # choose random instances\n",
        "    ix = np.random.randint(0, dataset.shape[0], n_samples)\n",
        "    # retrieve selected images\n",
        "    X = dataset[ix]\n",
        "    # generate 'real' class labels (1)\n",
        "    y = np.ones((n_samples, 1))\n",
        "    return X, y\n",
        "\n",
        "# generate n fake samples with class labels\n",
        "def generate_fake_samples(n_samples):\n",
        "    # generate uniform random numbers in [0,1]\n",
        "    X = np.random.rand(32 * 32 * 3 * n_samples)\n",
        "    # reshape into a batch of grayscale images\n",
        "    X = X.reshape((n_samples, 32, 32, 3))\n",
        "    # generate 'fake' class labels (0)\n",
        "    y = np.zeros((n_samples, 1))\n",
        "    return X, y"
      ],
      "execution_count": 0,
      "outputs": []
    },
    {
      "cell_type": "markdown",
      "metadata": {
        "colab_type": "text",
        "id": "OiGHkzDXDrwk"
      },
      "source": [
        "### Train the Discriminator on real + randomly generated images"
      ]
    },
    {
      "cell_type": "code",
      "metadata": {
        "ExecuteTime": {
          "end_time": "2019-12-13T12:32:55.477624Z",
          "start_time": "2019-12-13T12:32:49.062412Z"
        },
        "colab_type": "code",
        "id": "f1zJ8GZL4_4B",
        "outputId": "e7fa87aa-10be-4602-a5d6-64136899e0aa",
        "scrolled": true,
        "colab": {
          "base_uri": "https://localhost:8080/",
          "height": 470
        }
      },
      "source": [
        "# train the discriminator model\n",
        "def train_discriminator(model, dataset, n_iter=100, n_batch=256):\n",
        "    half_batch = int(n_batch / 2)\n",
        "    # manually enumerate epochs\n",
        "    for i in range(n_iter):\n",
        "        # get randomly selected 'real' samples\n",
        "        X_real, y_real = generate_real_samples(dataset, half_batch)\n",
        "        # update discriminator on real samples\n",
        "        _, real_acc = model.train_on_batch(X_real, y_real)\n",
        "        # generate 'fake' examples\n",
        "        X_fake, y_fake = generate_fake_samples(half_batch)\n",
        "        # update discriminator on fake samples\n",
        "        _, fake_acc = model.train_on_batch(X_fake, y_fake)\n",
        "        # summarize performance\n",
        "        if i % 10 == 0:\n",
        "          print('>%d real=%.0f%% fake=%.0f%%' % (i, real_acc*100, fake_acc*100))\n",
        "\n",
        "# define the discriminator model\n",
        "model = define_discriminator()\n",
        "# fit the model\n",
        "train_discriminator(model, dataset)"
      ],
      "execution_count": 11,
      "outputs": [
        {
          "output_type": "stream",
          "text": [
            "WARNING:tensorflow:From /usr/local/lib/python3.6/dist-packages/keras/backend/tensorflow_backend.py:1033: The name tf.assign_add is deprecated. Please use tf.compat.v1.assign_add instead.\n",
            "\n",
            "WARNING:tensorflow:From /usr/local/lib/python3.6/dist-packages/keras/backend/tensorflow_backend.py:1020: The name tf.assign is deprecated. Please use tf.compat.v1.assign instead.\n",
            "\n",
            "WARNING:tensorflow:From /usr/local/lib/python3.6/dist-packages/keras/backend/tensorflow_backend.py:3005: The name tf.Session is deprecated. Please use tf.compat.v1.Session instead.\n",
            "\n",
            "WARNING:tensorflow:From /usr/local/lib/python3.6/dist-packages/keras/backend/tensorflow_backend.py:190: The name tf.get_default_session is deprecated. Please use tf.compat.v1.get_default_session instead.\n",
            "\n",
            "WARNING:tensorflow:From /usr/local/lib/python3.6/dist-packages/keras/backend/tensorflow_backend.py:197: The name tf.ConfigProto is deprecated. Please use tf.compat.v1.ConfigProto instead.\n",
            "\n",
            "WARNING:tensorflow:From /usr/local/lib/python3.6/dist-packages/keras/backend/tensorflow_backend.py:207: The name tf.global_variables is deprecated. Please use tf.compat.v1.global_variables instead.\n",
            "\n",
            "WARNING:tensorflow:From /usr/local/lib/python3.6/dist-packages/keras/backend/tensorflow_backend.py:216: The name tf.is_variable_initialized is deprecated. Please use tf.compat.v1.is_variable_initialized instead.\n",
            "\n",
            "WARNING:tensorflow:From /usr/local/lib/python3.6/dist-packages/keras/backend/tensorflow_backend.py:223: The name tf.variables_initializer is deprecated. Please use tf.compat.v1.variables_initializer instead.\n",
            "\n",
            ">0 real=43% fake=41%\n",
            ">10 real=87% fake=38%\n",
            ">20 real=92% fake=62%\n",
            ">30 real=95% fake=76%\n",
            ">40 real=98% fake=95%\n",
            ">50 real=98% fake=98%\n",
            ">60 real=99% fake=100%\n",
            ">70 real=96% fake=100%\n",
            ">80 real=98% fake=100%\n",
            ">90 real=98% fake=100%\n"
          ],
          "name": "stdout"
        }
      ]
    },
    {
      "cell_type": "markdown",
      "metadata": {
        "colab_type": "text",
        "id": "yhsDamVvD03v"
      },
      "source": [
        "### Define the Generator"
      ]
    },
    {
      "cell_type": "code",
      "metadata": {
        "ExecuteTime": {
          "end_time": "2019-12-13T14:01:14.983214Z",
          "start_time": "2019-12-13T14:01:14.979539Z"
        },
        "id": "kzOLVg2l3zfc",
        "colab_type": "code",
        "colab": {}
      },
      "source": [
        "from keras.layers import BatchNormalization, ReLU, Lambda\n",
        "from keras.backend import constant"
      ],
      "execution_count": 0,
      "outputs": []
    },
    {
      "cell_type": "code",
      "metadata": {
        "ExecuteTime": {
          "end_time": "2019-12-13T16:51:15.647778Z",
          "start_time": "2019-12-13T16:51:15.547996Z"
        },
        "colab_type": "code",
        "id": "knOyOrh75vgK",
        "outputId": "42f85da0-ade1-4b05-f2c9-12c145bb4c94",
        "colab": {
          "base_uri": "https://localhost:8080/",
          "height": 450
        }
      },
      "source": [
        "# define the standalone generator model\n",
        "def define_generator(latent_dim):\n",
        "    model = Sequential()\n",
        "    n_nodes = 128 * 8 * 8\n",
        "    model.add(Dense(n_nodes, input_dim=latent_dim))\n",
        "#     model.add(BatchNormalization())\n",
        "    # model.add(LeakyReLU(alpha=0.2))\n",
        "    model.add(ReLU())\n",
        "    model.add(Reshape((8, 8, 128)))\n",
        "\n",
        "    model.add(Conv2DTranspose(64, (4,4), strides=(2,2), padding='same'))\n",
        "#     model.add(BatchNormalization())\n",
        "    # model.add(LeakyReLU(alpha=0.2))\n",
        "    model.add(ReLU())\n",
        "\n",
        "    model.add(Conv2DTranspose(32, (4,4), strides=(2,2), padding='same'))\n",
        "#     model.add(BatchNormalization())\n",
        "    # model.add(LeakyReLU(alpha=0.2))\n",
        "    model.add(ReLU())\n",
        "\n",
        "    model.add(Conv2D(3, (8,8), activation='tanh', padding='same', name=\"output\"))\n",
        "\n",
        "    if model.get_layer(name='output').activation.__name__ == 'tanh':\n",
        "      model.add(Lambda(lambda x: (x + constant(1.0)) / constant(2.0), name=\"tanh-shift\"))\n",
        "\n",
        "    return model\n",
        "\n",
        "def get_model_summary_string(model):\n",
        "  stringlist = []\n",
        "  model.summary(print_fn=lambda x: stringlist.append(x), line_length=120)\n",
        "  return \"\\n\".join(stringlist)\n",
        "\n",
        "# define the size of the latent space\n",
        "latent_dim = 100\n",
        "# define the generator model\n",
        "model = define_generator(latent_dim)\n",
        "print(get_model_summary_string(model))"
      ],
      "execution_count": 134,
      "outputs": [
        {
          "output_type": "stream",
          "text": [
            "Model: \"sequential_67\"\n",
            "________________________________________________________________________________________________________________________\n",
            "Layer (type)                                          Output Shape                                    Param #           \n",
            "========================================================================================================================\n",
            "dense_56 (Dense)                                      (None, 8192)                                    827392            \n",
            "________________________________________________________________________________________________________________________\n",
            "re_lu_1 (ReLU)                                        (None, 8192)                                    0                 \n",
            "________________________________________________________________________________________________________________________\n",
            "reshape_42 (Reshape)                                  (None, 8, 8, 128)                               0                 \n",
            "________________________________________________________________________________________________________________________\n",
            "conv2d_transpose_90 (Conv2DTranspose)                 (None, 16, 16, 64)                              131136            \n",
            "________________________________________________________________________________________________________________________\n",
            "re_lu_2 (ReLU)                                        (None, 16, 16, 64)                              0                 \n",
            "________________________________________________________________________________________________________________________\n",
            "conv2d_transpose_91 (Conv2DTranspose)                 (None, 32, 32, 32)                              32800             \n",
            "________________________________________________________________________________________________________________________\n",
            "re_lu_3 (ReLU)                                        (None, 32, 32, 32)                              0                 \n",
            "________________________________________________________________________________________________________________________\n",
            "output (Conv2D)                                       (None, 32, 32, 3)                               6147              \n",
            "________________________________________________________________________________________________________________________\n",
            "tanh-shift (Lambda)                                   (None, 32, 32, 3)                               0                 \n",
            "========================================================================================================================\n",
            "Total params: 997,475\n",
            "Trainable params: 997,475\n",
            "Non-trainable params: 0\n",
            "________________________________________________________________________________________________________________________\n"
          ],
          "name": "stdout"
        }
      ]
    },
    {
      "cell_type": "markdown",
      "metadata": {
        "colab_type": "text",
        "id": "hH7FZ4HiD9lG"
      },
      "source": [
        "### Define methods for generating:\n",
        "- latent points for the generator\n",
        "- fake samples using the generator model"
      ]
    },
    {
      "cell_type": "code",
      "metadata": {
        "ExecuteTime": {
          "end_time": "2019-12-13T12:35:42.115049Z",
          "start_time": "2019-12-13T12:35:42.108308Z"
        },
        "colab_type": "code",
        "id": "5UPyVAb_8wGf",
        "colab": {}
      },
      "source": [
        "# generate points in latent space as input for the generator\n",
        "def generate_latent_points(latent_dim, n_samples):\n",
        "    # generate points in the latent space\n",
        "    x_input = np.random.randn(latent_dim * n_samples)\n",
        "    # reshape into a batch of inputs for the network\n",
        "    x_input = x_input.reshape(n_samples, latent_dim)\n",
        "    return x_input\n",
        "\n",
        "# use the generator to generate n fake examples, with class labels\n",
        "def generate_fake_samples_with_generator(g_model, latent_dim, n_samples):\n",
        "    # generate points in latent space\n",
        "    x_input = generate_latent_points(latent_dim, n_samples)\n",
        "    # predict outputs\n",
        "    X = g_model.predict(x_input)\n",
        "\n",
        "    ''' NOT USED NOW\n",
        "    # check generator's output activation as it changes output range\n",
        "    if g_model.get_layer(name='output').activation.__name__ == 'tanh':\n",
        "      # if tanh, change [-1, 1] range into [0, 1]\n",
        "      X = X + 1.0 / 2.0\n",
        "    elif model.get_layer(name='output').activation.__name__ == 'sigmoid':\n",
        "      # if sigmoid, do nothing\n",
        "      pass\n",
        "    else:\n",
        "      raise Exception(\"Other activations in generator's output are not supported yet!\")\n",
        "    '''\n",
        "\n",
        "    # create 'fake' class labels (0)\n",
        "    y = np.zeros((n_samples, 1))\n",
        "    return X, y"
      ],
      "execution_count": 0,
      "outputs": []
    },
    {
      "cell_type": "markdown",
      "metadata": {
        "colab_type": "text",
        "id": "S8ODDd67EdCs"
      },
      "source": [
        "### Preview what the Generator generates without training"
      ]
    },
    {
      "cell_type": "code",
      "metadata": {
        "ExecuteTime": {
          "end_time": "2019-12-13T12:35:44.779694Z",
          "start_time": "2019-12-13T12:35:44.250720Z"
        },
        "colab_type": "code",
        "id": "uhhnbeze87Km",
        "outputId": "75c6f8b6-ee6a-47b3-ff04-cc8cdaed2488",
        "colab": {
          "base_uri": "https://localhost:8080/",
          "height": 266
        }
      },
      "source": [
        "# size of the latent space\n",
        "latent_dim = 100\n",
        "# define the discriminator model\n",
        "model = define_generator(latent_dim)\n",
        "# generate samples\n",
        "n_samples = 4\n",
        "X, _ = generate_fake_samples_with_generator(model, latent_dim, n_samples)\n",
        "plt.imshow(X[0, :, :])\n",
        "# show the figure\n",
        "plt.show()"
      ],
      "execution_count": 136,
      "outputs": [
        {
          "output_type": "display_data",
          "data": {
            "image/png": "[encoded data removed]",
            "text/plain": [
              "<Figure size 432x288 with 1 Axes>"
            ]
          },
          "metadata": {
            "tags": []
          }
        }
      ]
    },
    {
      "cell_type": "markdown",
      "metadata": {
        "colab_type": "text",
        "id": "aCRUIeYrEsHc"
      },
      "source": [
        "### Define the generator+discriminator model that will update generator's weights\n",
        "- the generator's aim is to produce fake samples that look like real samples\n",
        "- backpropagation will not modify discriminator's weights"
      ]
    },
    {
      "cell_type": "code",
      "metadata": {
        "ExecuteTime": {
          "end_time": "2019-12-13T16:44:33.316408Z",
          "start_time": "2019-12-13T16:44:32.656478Z"
        },
        "colab_type": "code",
        "id": "VAC1clHL9N2O",
        "colab": {}
      },
      "source": [
        "# define the combined generator and discriminator model, for updating the generator\n",
        "def define_gan(g_model, d_model):\n",
        "    # make weights in the discriminator not trainable\n",
        "    d_model.trainable = False\n",
        "    # connect them\n",
        "    model = Sequential()\n",
        "    # add generator\n",
        "    model.add(g_model)\n",
        "    # add the discriminator\n",
        "    model.add(d_model)\n",
        "    # compile model\n",
        "    opt = Adam(lr=0.0002, beta_1=0.5)\n",
        "    model.compile(loss='binary_crossentropy', optimizer=opt)\n",
        "    return model"
      ],
      "execution_count": 0,
      "outputs": []
    },
    {
      "cell_type": "markdown",
      "metadata": {
        "colab_type": "text",
        "id": "fa9bfl2sFTee"
      },
      "source": [
        "### Define the `train` method for both generator and discriminator\n",
        "1. Train discriminator on 50% real samples (from the dataset) and 50% fake samples generated by the generator\n",
        "2. Train generator as follows:\n",
        "  - feed latent points into the generator\n",
        "  - take generator's output and input to the discriminator\n",
        "  - compute discriminator's loss when all generated samples' labels were '1' (\"REAL\")\n",
        "  - update generator's weights accordingly\n",
        "    - discriminator outputs 0.25: bigger penalty (poor 'fake' sample)\n",
        "    - discriminator outputs 0.9: smaller penalty (good 'fake' sample)"
      ]
    },
    {
      "cell_type": "code",
      "metadata": {
        "ExecuteTime": {
          "end_time": "2019-12-13T16:44:46.236461Z",
          "start_time": "2019-12-13T16:44:46.224881Z"
        },
        "colab_type": "code",
        "id": "6fSEaN0P_eVo",
        "colab": {}
      },
      "source": [
        "# train the generator and discriminator\n",
        "def train(g_model, d_model, gan_model, dataset, latent_dim, n_epochs=100, n_batch=256, save_every=10, label=None):\n",
        "    bat_per_epo = int(dataset.shape[0] / n_batch)\n",
        "    half_batch = int(n_batch / 2)\n",
        "    acc_real_list, acc_fake_list = [], []\n",
        "    loss_real_list, loss_fake_list = [], []\n",
        "\n",
        "    timestamp = time.strftime(\"%Y-%m-%d_%H:%M:%S\")\n",
        "    if label:\n",
        "      timestamp = label + '-' + timestamp\n",
        "\n",
        "    if not os.path.isdir(timestamp):\n",
        "        os.mkdir(timestamp)\n",
        "    print(f\">>> MODEL AND ITS EVALUATION CAN BE FOUND IN {timestamp} DIRECTORY :)\")\n",
        "\n",
        "    # dump model summary into file\n",
        "    with open(os.path.join(timestamp, f\"SUMMARY-{timestamp}.txt\"), \"w\") as summary_file:\n",
        "      summary_file.write(\"DISCRIMINATOR:\\n\")\n",
        "      summary_file.write(get_model_summary_string(d_model))\n",
        "      summary_file.write(\"\\nGENERATOR:\\n\")\n",
        "      summary_file.write(get_model_summary_string(g_model))\n",
        "\n",
        "    # manually enumerate epochs\n",
        "    for i in range(n_epochs):\n",
        "        # enumerate batches over the training set\n",
        "        for j in range(bat_per_epo):\n",
        "            # get randomly selected 'real' samples\n",
        "            X_real, y_real = generate_real_samples(dataset, half_batch)\n",
        "            # generate 'fake' examples\n",
        "            X_fake, y_fake = generate_fake_samples_with_generator(g_model, latent_dim, half_batch)\n",
        "            # create training set for the discriminator\n",
        "            X, y = np.vstack((X_real, X_fake)), np.vstack((y_real, y_fake))\n",
        "            # train distriminator with 50% fake examples and 50% real examples\n",
        "            d_loss, _ = d_model.train_on_batch(X, y)\n",
        "            # prepare points in latent space as input for the generator\n",
        "            X_gan = generate_latent_points(latent_dim, n_batch)\n",
        "            # create inverted labels for the fake samples\n",
        "            y_gan = np.ones((n_batch, 1))\n",
        "            # update the generator via the discriminator's error\n",
        "            g_loss = gan_model.train_on_batch(X_gan, y_gan)\n",
        "\n",
        "            # summarize loss on this batch\n",
        "            # print('\\t >%d, %d/%d, d=%.3f, g=%.3f' % (i+1, j+1, bat_per_epo, d_loss, g_loss))\n",
        "\n",
        "        # EVALUATION\n",
        "        n_samples = 64\n",
        "        # prepare real samples\n",
        "        X_real, y_real = generate_real_samples(dataset, n_samples)\n",
        "        # evaluate discriminator on real examples\n",
        "        loss_real, acc_real = d_model.evaluate(X_real, y_real, verbose=0)\n",
        "        acc_real_list.append(acc_real); loss_real_list.append(loss_real)\n",
        "\n",
        "        # prepare fake examples\n",
        "        x_fake, y_fake = generate_fake_samples_with_generator(g_model, latent_dim, n_samples)\n",
        "        # evaluate discriminator on fake examples\n",
        "        loss_fake, acc_fake = d_model.evaluate(x_fake, y_fake, verbose=0)\n",
        "        acc_fake_list.append(acc_fake); loss_fake_list.append(loss_fake)\n",
        "\n",
        "        print('\\n> %d, real_acc=%.3f, fake_acc=%.3f' % (i+1, acc_real, acc_fake))\n",
        "        print('> %d, real_loss=%.3f, fake_loss=%.3f\\n' % (i+1, loss_real, loss_fake))\n",
        "\n",
        "        if (i+1) % save_every == 0:\n",
        "            print()\n",
        "            # save generating images result\n",
        "            save_images_plot(x_fake, i, timestamp=timestamp, n=8)\n",
        "\n",
        "            # save plot with accuracy\n",
        "            save_measure_plot(acc_real_list, acc_fake_list, i, label='accuracy', timestamp=timestamp)\n",
        "\n",
        "            # save plot with loss\n",
        "            save_measure_plot(loss_real_list, loss_fake_list, i, label='loss', timestamp=timestamp)\n",
        "\n",
        "            # save model\n",
        "            save_model(g_model, i, timestamp=timestamp)"
      ],
      "execution_count": 0,
      "outputs": []
    },
    {
      "cell_type": "markdown",
      "metadata": {
        "id": "s_z_rOZei2mt",
        "colab_type": "text"
      },
      "source": [
        "### [utils] Define `save_measure_plot` function\n",
        "This method creates a plot with two lines representing discriminator's performance (e.g. accuracy or loss) on real and fake (generated) images accross epochs. The plot is saved to file according to the model's timestamp (or label+timestamp)"
      ]
    },
    {
      "cell_type": "code",
      "metadata": {
        "ExecuteTime": {
          "end_time": "2019-12-13T12:36:03.741820Z",
          "start_time": "2019-12-13T12:36:03.734825Z"
        },
        "colab_type": "code",
        "id": "ZdZtZ0zRKEgo",
        "colab": {}
      },
      "source": [
        "def save_measure_plot(real_list, fake_list, epoch, label='accuracy', timestamp=''):\n",
        "    print(\"[ ] Creating plots for %s, epoch %d...\" % (label, epoch+1))\n",
        "    # filename = '%s_%s_plot_e%03d.png' % (timestamp, label, epoch+1)\n",
        "    filename = '%s_%s_plot.png' % (timestamp, label)\n",
        "    plt.figure(figsize=(14, 5))\n",
        "\n",
        "    # plt.subplot(121)\n",
        "    plt.plot([i for i in range(len(real_list))], real_list, label=f\"real {label}\")\n",
        "\n",
        "    # plt.subplot(122)\n",
        "    plt.plot([i for i in range(len(fake_list))], fake_list, label=f\"fake {label}\")\n",
        "    plt.title(\"real / fake %s\" % (label))\n",
        "  \n",
        "    plt.legend(loc=\"best\")\n",
        "    plt.savefig(os.path.join(timestamp, filename))\n",
        "    plt.close()"
      ],
      "execution_count": 0,
      "outputs": []
    },
    {
      "cell_type": "markdown",
      "metadata": {
        "id": "1mo4-98ljjhX",
        "colab_type": "text"
      },
      "source": [
        "### [utils] Define `save_images_plot` function\n",
        "This method creates a plot with n*n images generated using the generator model and saves it."
      ]
    },
    {
      "cell_type": "code",
      "metadata": {
        "ExecuteTime": {
          "end_time": "2019-12-13T12:36:04.190156Z",
          "start_time": "2019-12-13T12:36:04.182578Z"
        },
        "colab_type": "code",
        "id": "xG6k9rKtCNwc",
        "colab": {}
      },
      "source": [
        "# create and save a plot of generated images (reversed grayscale)\n",
        "def save_images_plot(examples, epoch, n=4, timestamp=''):\n",
        "    print(\"[ ] Creating images preview of %d examples, epoch %d...\" % (n*n, epoch+1))\n",
        "    plt.figure(figsize=(15,15))\n",
        "    for i in range(n * n):\n",
        "        plt.subplot(n, n, 1 + i)\n",
        "        plt.axis('off')\n",
        "        plt.imshow(examples[i], alpha=1.0)\n",
        "    filename = '%s_generated_plot_e%03d.png' % (timestamp, epoch+1)\n",
        "    plt.savefig(os.path.join(timestamp, filename))\n",
        "    plt.close()"
      ],
      "execution_count": 0,
      "outputs": []
    },
    {
      "cell_type": "markdown",
      "metadata": {
        "id": "NnV6PmT1js9b",
        "colab_type": "text"
      },
      "source": [
        "### [utils] Define `save_model` function\n",
        "This method saves current model under timestamp/model/ directory for further usage. Each filename contains information about the epoch number."
      ]
    },
    {
      "cell_type": "code",
      "metadata": {
        "ExecuteTime": {
          "end_time": "2019-12-13T12:36:04.948965Z",
          "start_time": "2019-12-13T12:36:04.938091Z"
        },
        "colab_type": "code",
        "id": "sfGUi2K1azYz",
        "colab": {}
      },
      "source": [
        "def save_model(g_model, epoch, timestamp=''):\n",
        "    if not os.path.isdir(os.path.join(timestamp, 'model')):\n",
        "        os.mkdir(os.path.join(timestamp, 'model'))\n",
        "    filename = os.path.join(timestamp, 'model', 'generator_%03d.h5' % (epoch + 1))\n",
        "    g_model.save(filename)"
      ],
      "execution_count": 0,
      "outputs": []
    },
    {
      "cell_type": "markdown",
      "metadata": {
        "id": "0HZI6QC4j8Z-",
        "colab_type": "text"
      },
      "source": [
        "## TRAIN! It's here"
      ]
    },
    {
      "cell_type": "code",
      "metadata": {
        "ExecuteTime": {
          "end_time": "2019-12-13T16:50:03.419908Z",
          "start_time": "2019-12-13T16:44:49.457417Z"
        },
        "id": "XY2Hb9Sc3zgs",
        "colab_type": "code",
        "outputId": "ea82d2ee-dca4-4c87-e1a2-5b3cf07c5e06",
        "colab": {
          "base_uri": "https://localhost:8080/",
          "height": 1000
        }
      },
      "source": [
        "# size of the latent space\n",
        "latent_dim = 100\n",
        "# create the discriminator\n",
        "d_model = define_discriminator()\n",
        "# create the generator\n",
        "g_model = define_generator(latent_dim)\n",
        "# create the gan\n",
        "gan_model = define_gan(g_model, d_model)\n",
        "\n",
        "train(g_model, d_model, gan_model, dataset, latent_dim, n_epochs=100, n_batch=256, save_every=10, label='TANH2')"
      ],
      "execution_count": 0,
      "outputs": [
        {
          "output_type": "stream",
          "text": [
            ">>> MODEL AND ITS EVALUATION CAN BE FOUND IN TANH2-2019-12-18_21:12:55 DIRECTORY :)\n"
          ],
          "name": "stdout"
        },
        {
          "output_type": "stream",
          "text": [
            "/usr/local/lib/python3.6/dist-packages/keras/engine/training.py:493: UserWarning: Discrepancy between trainable weights and collected trainable weights, did you set `model.trainable` without calling `model.compile` after ?\n",
            "  'Discrepancy between trainable weights and collected trainable'\n",
            "/usr/local/lib/python3.6/dist-packages/keras/engine/training.py:493: UserWarning: Discrepancy between trainable weights and collected trainable weights, did you set `model.trainable` without calling `model.compile` after ?\n",
            "  'Discrepancy between trainable weights and collected trainable'\n"
          ],
          "name": "stderr"
        },
        {
          "output_type": "stream",
          "text": [
            "\n",
            "> 1, real_acc=0.469, fake_acc=0.969\n",
            "> 1, real_loss=0.693, fake_loss=0.651\n",
            "\n",
            "\n",
            "> 2, real_acc=0.078, fake_acc=0.984\n",
            "> 2, real_loss=0.741, fake_loss=0.669\n",
            "\n",
            "\n",
            "> 3, real_acc=0.016, fake_acc=1.000\n",
            "> 3, real_loss=0.767, fake_loss=0.586\n",
            "\n",
            "\n",
            "> 4, real_acc=0.031, fake_acc=1.000\n",
            "> 4, real_loss=0.789, fake_loss=0.545\n",
            "\n",
            "\n",
            "> 5, real_acc=0.359, fake_acc=0.969\n",
            "> 5, real_loss=0.706, fake_loss=0.648\n",
            "\n",
            "\n",
            "> 6, real_acc=0.703, fake_acc=0.234\n",
            "> 6, real_loss=0.663, fake_loss=0.707\n",
            "\n",
            "\n",
            "> 7, real_acc=0.297, fake_acc=0.984\n",
            "> 7, real_loss=0.708, fake_loss=0.650\n",
            "\n",
            "\n",
            "> 8, real_acc=0.328, fake_acc=0.750\n",
            "> 8, real_loss=0.715, fake_loss=0.659\n",
            "\n",
            "\n",
            "> 9, real_acc=0.734, fake_acc=0.016\n",
            "> 9, real_loss=0.666, fake_loss=0.755\n",
            "\n",
            "\n",
            "> 10, real_acc=0.500, fake_acc=0.672\n",
            "> 10, real_loss=0.694, fake_loss=0.675\n",
            "\n",
            "\n",
            "[ ] Creating images preview of 64 examples, epoch 10...\n",
            "[ ] Creating plots for accuracy, epoch 10...\n",
            "[ ] Creating plots for loss, epoch 10...\n",
            "\n",
            "> 11, real_acc=0.750, fake_acc=0.016\n",
            "> 11, real_loss=0.675, fake_loss=0.729\n",
            "\n",
            "\n",
            "> 12, real_acc=0.719, fake_acc=0.234\n",
            "> 12, real_loss=0.677, fake_loss=0.701\n",
            "\n",
            "\n",
            "> 13, real_acc=0.281, fake_acc=0.734\n",
            "> 13, real_loss=0.708, fake_loss=0.678\n",
            "\n",
            "\n",
            "> 14, real_acc=0.109, fake_acc=1.000\n",
            "> 14, real_loss=0.732, fake_loss=0.650\n",
            "\n",
            "\n",
            "> 15, real_acc=0.922, fake_acc=0.094\n",
            "> 15, real_loss=0.668, fake_loss=0.714\n",
            "\n",
            "\n",
            "> 16, real_acc=0.031, fake_acc=1.000\n",
            "> 16, real_loss=0.740, fake_loss=0.638\n",
            "\n",
            "\n",
            "> 17, real_acc=0.656, fake_acc=0.141\n",
            "> 17, real_loss=0.684, fake_loss=0.731\n",
            "\n",
            "\n",
            "> 18, real_acc=0.203, fake_acc=0.875\n",
            "> 18, real_loss=0.713, fake_loss=0.670\n",
            "\n",
            "\n",
            "> 19, real_acc=0.562, fake_acc=0.531\n",
            "> 19, real_loss=0.670, fake_loss=0.693\n",
            "\n",
            "\n",
            "> 20, real_acc=0.000, fake_acc=1.000\n",
            "> 20, real_loss=0.833, fake_loss=0.563\n",
            "\n",
            "\n",
            "[ ] Creating images preview of 64 examples, epoch 20...\n",
            "[ ] Creating plots for accuracy, epoch 20...\n",
            "[ ] Creating plots for loss, epoch 20...\n",
            "\n",
            "> 21, real_acc=0.312, fake_acc=0.781\n",
            "> 21, real_loss=0.707, fake_loss=0.677\n",
            "\n",
            "\n",
            "> 22, real_acc=0.109, fake_acc=0.922\n",
            "> 22, real_loss=0.736, fake_loss=0.665\n",
            "\n",
            "\n",
            "> 23, real_acc=0.078, fake_acc=0.984\n",
            "> 23, real_loss=0.730, fake_loss=0.651\n",
            "\n",
            "\n",
            "> 24, real_acc=0.172, fake_acc=1.000\n",
            "> 24, real_loss=0.728, fake_loss=0.619\n",
            "\n",
            "\n",
            "> 25, real_acc=0.297, fake_acc=0.828\n",
            "> 25, real_loss=0.742, fake_loss=0.658\n",
            "\n",
            "\n",
            "> 26, real_acc=0.719, fake_acc=0.625\n",
            "> 26, real_loss=0.659, fake_loss=0.684\n",
            "\n",
            "\n",
            "> 27, real_acc=0.328, fake_acc=0.969\n",
            "> 27, real_loss=0.707, fake_loss=0.644\n",
            "\n",
            "\n",
            "> 28, real_acc=0.891, fake_acc=0.391\n",
            "> 28, real_loss=0.608, fake_loss=0.701\n",
            "\n",
            "\n",
            "> 29, real_acc=0.219, fake_acc=1.000\n",
            "> 29, real_loss=0.763, fake_loss=0.597\n",
            "\n",
            "\n",
            "> 30, real_acc=0.859, fake_acc=0.234\n",
            "> 30, real_loss=0.603, fake_loss=0.712\n",
            "\n",
            "\n",
            "[ ] Creating images preview of 64 examples, epoch 30...\n",
            "[ ] Creating plots for accuracy, epoch 30...\n",
            "[ ] Creating plots for loss, epoch 30...\n",
            "\n",
            "> 31, real_acc=0.594, fake_acc=0.547\n",
            "> 31, real_loss=0.678, fake_loss=0.713\n",
            "\n",
            "\n",
            "> 32, real_acc=0.328, fake_acc=1.000\n",
            "> 32, real_loss=0.798, fake_loss=0.560\n",
            "\n",
            "\n",
            "> 33, real_acc=0.906, fake_acc=0.828\n",
            "> 33, real_loss=0.606, fake_loss=0.643\n",
            "\n",
            "\n",
            "> 34, real_acc=0.172, fake_acc=1.000\n",
            "> 34, real_loss=0.773, fake_loss=0.549\n",
            "\n",
            "\n",
            "> 35, real_acc=0.203, fake_acc=0.938\n",
            "> 35, real_loss=0.770, fake_loss=0.590\n",
            "\n",
            "\n",
            "> 36, real_acc=0.422, fake_acc=0.703\n",
            "> 36, real_loss=0.701, fake_loss=0.681\n",
            "\n",
            "\n",
            "> 37, real_acc=0.078, fake_acc=1.000\n",
            "> 37, real_loss=0.823, fake_loss=0.548\n",
            "\n",
            "\n",
            "> 38, real_acc=0.094, fake_acc=0.953\n",
            "> 38, real_loss=0.772, fake_loss=0.617\n",
            "\n",
            "\n",
            "> 39, real_acc=0.266, fake_acc=0.984\n",
            "> 39, real_loss=0.727, fake_loss=0.645\n",
            "\n",
            "\n",
            "> 40, real_acc=0.016, fake_acc=1.000\n",
            "> 40, real_loss=0.856, fake_loss=0.550\n",
            "\n",
            "\n",
            "[ ] Creating images preview of 64 examples, epoch 40...\n",
            "[ ] Creating plots for accuracy, epoch 40...\n",
            "[ ] Creating plots for loss, epoch 40...\n",
            "\n",
            "> 41, real_acc=0.531, fake_acc=0.922\n",
            "> 41, real_loss=0.696, fake_loss=0.655\n",
            "\n",
            "\n",
            "> 42, real_acc=0.141, fake_acc=0.906\n",
            "> 42, real_loss=0.731, fake_loss=0.643\n",
            "\n",
            "\n",
            "> 43, real_acc=0.672, fake_acc=0.562\n",
            "> 43, real_loss=0.676, fake_loss=0.684\n",
            "\n",
            "\n",
            "> 44, real_acc=0.125, fake_acc=0.938\n",
            "> 44, real_loss=0.751, fake_loss=0.630\n",
            "\n",
            "\n",
            "> 45, real_acc=0.547, fake_acc=0.719\n",
            "> 45, real_loss=0.698, fake_loss=0.637\n",
            "\n",
            "\n",
            "> 46, real_acc=0.016, fake_acc=1.000\n",
            "> 46, real_loss=0.870, fake_loss=0.537\n",
            "\n",
            "\n",
            "> 47, real_acc=0.516, fake_acc=0.969\n",
            "> 47, real_loss=0.693, fake_loss=0.652\n",
            "\n",
            "\n",
            "> 48, real_acc=0.391, fake_acc=0.953\n",
            "> 48, real_loss=0.718, fake_loss=0.637\n",
            "\n",
            "\n",
            "> 49, real_acc=0.141, fake_acc=1.000\n",
            "> 49, real_loss=0.734, fake_loss=0.617\n",
            "\n",
            "\n",
            "> 50, real_acc=0.859, fake_acc=0.062\n",
            "> 50, real_loss=0.591, fake_loss=0.776\n",
            "\n",
            "\n",
            "[ ] Creating images preview of 64 examples, epoch 50...\n",
            "[ ] Creating plots for accuracy, epoch 50...\n",
            "[ ] Creating plots for loss, epoch 50...\n",
            "\n",
            "> 51, real_acc=0.625, fake_acc=0.750\n",
            "> 51, real_loss=0.679, fake_loss=0.659\n",
            "\n",
            "\n",
            "> 52, real_acc=0.141, fake_acc=1.000\n",
            "> 52, real_loss=0.749, fake_loss=0.603\n",
            "\n",
            "\n",
            "> 53, real_acc=0.516, fake_acc=0.672\n",
            "> 53, real_loss=0.694, fake_loss=0.687\n",
            "\n",
            "\n",
            "> 54, real_acc=0.031, fake_acc=1.000\n",
            "> 54, real_loss=0.781, fake_loss=0.599\n",
            "\n",
            "\n",
            "> 55, real_acc=0.109, fake_acc=1.000\n",
            "> 55, real_loss=0.765, fake_loss=0.591\n",
            "\n",
            "\n",
            "> 56, real_acc=0.062, fake_acc=0.984\n",
            "> 56, real_loss=0.752, fake_loss=0.621\n",
            "\n",
            "\n",
            "> 57, real_acc=0.469, fake_acc=0.391\n",
            "> 57, real_loss=0.685, fake_loss=0.704\n",
            "\n",
            "\n",
            "> 58, real_acc=0.688, fake_acc=0.453\n",
            "> 58, real_loss=0.658, fake_loss=0.714\n",
            "\n",
            "\n",
            "> 59, real_acc=0.000, fake_acc=1.000\n",
            "> 59, real_loss=0.798, fake_loss=0.578\n",
            "\n",
            "\n",
            "> 60, real_acc=0.000, fake_acc=1.000\n",
            "> 60, real_loss=0.796, fake_loss=0.579\n",
            "\n",
            "\n",
            "[ ] Creating images preview of 64 examples, epoch 60...\n",
            "[ ] Creating plots for accuracy, epoch 60...\n",
            "[ ] Creating plots for loss, epoch 60...\n",
            "\n",
            "> 61, real_acc=0.016, fake_acc=1.000\n",
            "> 61, real_loss=0.784, fake_loss=0.577\n",
            "\n",
            "\n",
            "> 62, real_acc=0.047, fake_acc=1.000\n",
            "> 62, real_loss=0.799, fake_loss=0.570\n",
            "\n",
            "\n",
            "> 63, real_acc=0.062, fake_acc=1.000\n",
            "> 63, real_loss=0.789, fake_loss=0.579\n",
            "\n",
            "\n",
            "> 64, real_acc=0.094, fake_acc=0.984\n",
            "> 64, real_loss=0.762, fake_loss=0.613\n",
            "\n",
            "\n",
            "> 65, real_acc=0.156, fake_acc=0.906\n",
            "> 65, real_loss=0.744, fake_loss=0.657\n",
            "\n",
            "\n",
            "> 66, real_acc=0.797, fake_acc=0.469\n",
            "> 66, real_loss=0.662, fake_loss=0.700\n",
            "\n",
            "\n",
            "> 67, real_acc=0.016, fake_acc=1.000\n",
            "> 67, real_loss=0.795, fake_loss=0.590\n",
            "\n",
            "\n",
            "> 68, real_acc=0.078, fake_acc=1.000\n",
            "> 68, real_loss=0.744, fake_loss=0.629\n",
            "\n",
            "\n",
            "> 69, real_acc=0.594, fake_acc=0.453\n",
            "> 69, real_loss=0.690, fake_loss=0.697\n",
            "\n",
            "\n",
            "> 70, real_acc=0.188, fake_acc=0.781\n",
            "> 70, real_loss=0.747, fake_loss=0.669\n",
            "\n",
            "\n",
            "[ ] Creating images preview of 64 examples, epoch 70...\n",
            "[ ] Creating plots for accuracy, epoch 70...\n",
            "[ ] Creating plots for loss, epoch 70...\n",
            "\n",
            "> 71, real_acc=0.375, fake_acc=0.453\n",
            "> 71, real_loss=0.702, fake_loss=0.693\n",
            "\n",
            "\n",
            "> 72, real_acc=0.969, fake_acc=0.016\n",
            "> 72, real_loss=0.629, fake_loss=0.746\n",
            "\n",
            "\n",
            "> 73, real_acc=0.031, fake_acc=1.000\n",
            "> 73, real_loss=0.768, fake_loss=0.611\n",
            "\n",
            "\n",
            "> 74, real_acc=0.172, fake_acc=0.969\n",
            "> 74, real_loss=0.721, fake_loss=0.653\n",
            "\n",
            "\n",
            "> 75, real_acc=0.109, fake_acc=1.000\n",
            "> 75, real_loss=0.735, fake_loss=0.631\n",
            "\n",
            "\n",
            "> 76, real_acc=0.094, fake_acc=0.906\n",
            "> 76, real_loss=0.751, fake_loss=0.653\n",
            "\n",
            "\n",
            "> 77, real_acc=0.562, fake_acc=0.406\n",
            "> 77, real_loss=0.687, fake_loss=0.705\n",
            "\n",
            "\n",
            "> 78, real_acc=0.547, fake_acc=0.828\n",
            "> 78, real_loss=0.697, fake_loss=0.665\n",
            "\n",
            "\n",
            "> 79, real_acc=0.469, fake_acc=0.922\n",
            "> 79, real_loss=0.697, fake_loss=0.671\n",
            "\n",
            "\n",
            "> 80, real_acc=0.156, fake_acc=0.719\n",
            "> 80, real_loss=0.740, fake_loss=0.672\n",
            "\n",
            "\n",
            "[ ] Creating images preview of 64 examples, epoch 80...\n",
            "[ ] Creating plots for accuracy, epoch 80...\n",
            "[ ] Creating plots for loss, epoch 80...\n",
            "\n",
            "> 81, real_acc=0.125, fake_acc=0.938\n",
            "> 81, real_loss=0.757, fake_loss=0.654\n",
            "\n",
            "\n",
            "> 82, real_acc=0.109, fake_acc=0.844\n",
            "> 82, real_loss=0.723, fake_loss=0.672\n",
            "\n",
            "\n",
            "> 83, real_acc=0.828, fake_acc=0.219\n",
            "> 83, real_loss=0.660, fake_loss=0.714\n",
            "\n",
            "\n",
            "> 84, real_acc=0.203, fake_acc=0.984\n",
            "> 84, real_loss=0.713, fake_loss=0.669\n",
            "\n",
            "\n",
            "> 85, real_acc=0.766, fake_acc=0.438\n",
            "> 85, real_loss=0.652, fake_loss=0.706\n",
            "\n",
            "\n",
            "> 86, real_acc=0.016, fake_acc=0.984\n",
            "> 86, real_loss=0.741, fake_loss=0.655\n",
            "\n",
            "\n",
            "> 87, real_acc=0.000, fake_acc=1.000\n",
            "> 87, real_loss=0.755, fake_loss=0.633\n",
            "\n",
            "\n",
            "> 88, real_acc=0.938, fake_acc=0.016\n",
            "> 88, real_loss=0.634, fake_loss=0.743\n",
            "\n",
            "\n",
            "> 89, real_acc=0.000, fake_acc=1.000\n",
            "> 89, real_loss=0.795, fake_loss=0.607\n",
            "\n",
            "\n",
            "> 90, real_acc=0.078, fake_acc=0.953\n",
            "> 90, real_loss=0.732, fake_loss=0.666\n",
            "\n",
            "\n",
            "[ ] Creating images preview of 64 examples, epoch 90...\n",
            "[ ] Creating plots for accuracy, epoch 90...\n",
            "[ ] Creating plots for loss, epoch 90...\n",
            "\n",
            "> 91, real_acc=0.906, fake_acc=0.531\n",
            "> 91, real_loss=0.653, fake_loss=0.699\n",
            "\n",
            "\n",
            "> 92, real_acc=0.516, fake_acc=0.531\n",
            "> 92, real_loss=0.688, fake_loss=0.693\n",
            "\n",
            "\n",
            "> 93, real_acc=0.703, fake_acc=0.125\n",
            "> 93, real_loss=0.672, fake_loss=0.725\n",
            "\n"
          ],
          "name": "stdout"
        }
      ]
    },
    {
      "cell_type": "code",
      "metadata": {
        "id": "dWFPRu4GiQJH",
        "colab_type": "code",
        "colab": {
          "base_uri": "https://localhost:8080/",
          "height": 282
        },
        "outputId": "69651a58-900a-46ad-8bf1-d7d425f2a28b"
      },
      "source": [
        "# generate images\n",
        "num_images = 64\n",
        "# generate images\n",
        "X, _ = generate_fake_samples_with_generator(g_model, 100, num_images)\n",
        "idx = np.random.randint(0, num_images)\n",
        "plt.imshow(X[idx])\n",
        "np.min(X[idx]), np.max(X[idx])"
      ],
      "execution_count": 59,
      "outputs": [
        {
          "output_type": "execute_result",
          "data": {
            "text/plain": [
              "(0.0003286898, 0.9988538)"
            ]
          },
          "metadata": {
            "tags": []
          },
          "execution_count": 59
        },
        {
          "output_type": "display_data",
          "data": {
            "image/png": "[encoded data removed]",
            "text/plain": [
              "<Figure size 432x288 with 1 Axes>"
            ]
          },
          "metadata": {
            "tags": []
          }
        }
      ]
    },
    {
      "cell_type": "code",
      "metadata": {
        "ExecuteTime": {
          "end_time": "2019-12-13T15:30:21.975641Z",
          "start_time": "2019-12-13T15:30:19.973308Z"
        },
        "id": "HgLNXRzz3zgy",
        "colab_type": "code",
        "colab": {}
      },
      "source": [
        "# example of loading the generator model and generating images\n",
        "from keras.models import load_model\n",
        "\n",
        "timestamp = \"2019-12-13_15:49:41\"\n",
        "# load model\n",
        "model1 = load_model(timestamp + '/model/generator_060.h5')\n",
        "# generate images\n",
        "latent_points = generate_latent_points(100, 64)\n",
        "# generate images\n",
        "X = model1.predict(latent_points)\n",
        "# plot the result\n",
        "save_images_plot(X, 99, timestamp=timestamp, n=8)"
      ],
      "execution_count": 0,
      "outputs": []
    },
    {
      "cell_type": "code",
      "metadata": {
        "id": "Mff1Ub5ihfu8",
        "colab_type": "code",
        "colab": {}
      },
      "source": [
        "! rm -rf TANH2-2019-12-18_*"
      ],
      "execution_count": 0,
      "outputs": []
    },
    {
      "cell_type": "code",
      "metadata": {
        "id": "CghWpOdhkYVs",
        "colab_type": "code",
        "colab": {}
      },
      "source": [
        ""
      ],
      "execution_count": 0,
      "outputs": []
    }
  ]
}