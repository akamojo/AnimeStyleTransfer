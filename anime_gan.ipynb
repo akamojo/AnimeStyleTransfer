{
  "nbformat": 4,
  "nbformat_minor": 0,
  "metadata": {
    "accelerator": "GPU",
    "colab": {
      "name": "anime_gan.ipynb",
      "provenance": [],
      "collapsed_sections": [],
      "toc_visible": true,
      "machine_shape": "hm"
    },
    "kernelspec": {
      "display_name": "Python 3",
      "language": "python",
      "name": "python3"
    },
    "language_info": {
      "codemirror_mode": {
        "name": "ipython",
        "version": 3
      },
      "file_extension": ".py",
      "mimetype": "text/x-python",
      "name": "python",
      "nbconvert_exporter": "python",
      "pygments_lexer": "ipython3",
      "version": "3.7.3"
    },
    "toc": {
      "base_numbering": 1,
      "nav_menu": {},
      "number_sections": true,
      "sideBar": true,
      "skip_h1_title": false,
      "title_cell": "Table of Contents",
      "title_sidebar": "Contents",
      "toc_cell": false,
      "toc_position": {},
      "toc_section_display": true,
      "toc_window_display": true
    }
  },
  "cells": [
    {
      "cell_type": "markdown",
      "metadata": {
        "colab_type": "text",
        "id": "l0m55IdxC6Sr"
      },
      "source": [
        "## Imports"
      ]
    },
    {
      "cell_type": "code",
      "metadata": {
        "ExecuteTime": {
          "end_time": "2019-12-13T12:31:53.359196Z",
          "start_time": "2019-12-13T12:31:51.146208Z"
        },
        "colab_type": "code",
        "id": "4WlAL9Qb4D6u",
        "colab": {}
      },
      "source": [
        "from keras.models import Sequential\n",
        "from keras.optimizers import Adam\n",
        "from keras.layers import Dense\n",
        "from keras.layers import Conv2D\n",
        "from keras.layers import Flatten\n",
        "from keras.layers import Dropout\n",
        "from keras.layers import LeakyReLU\n",
        "from keras.utils.vis_utils import plot_model\n",
        "from keras.layers import Reshape\n",
        "from keras.layers import Conv2DTranspose\n",
        "\n",
        "import numpy as np\n",
        "import matplotlib.pyplot as plt\n",
        "import time\n",
        "import os\n",
        "import cv2"
      ],
      "execution_count": 0,
      "outputs": []
    },
    {
      "cell_type": "markdown",
      "metadata": {
        "colab_type": "text",
        "id": "HjK-OYOPC85Q"
      },
      "source": [
        "## Load data"
      ]
    },
    {
      "cell_type": "markdown",
      "metadata": {
        "id": "ejJitge0nBeP",
        "colab_type": "text"
      },
      "source": [
        "a) Zipped (on `Google Colab`)\n",
        "\n",
        "\n"
      ]
    },
    {
      "cell_type": "code",
      "metadata": {
        "id": "8RGL70sMSrFV",
        "colab_type": "code",
        "colab": {}
      },
      "source": [
        "import sys\n",
        "from zipfile import ZipFile\n",
        "from PIL import Image\n",
        "\n",
        "def load_data_from_zip(path, limit=None):\n",
        "  images = []\n",
        "  with ZipFile(path) as archive:\n",
        "    entries = archive.infolist() if not limit else archive.infolist()[:limit]\n",
        "    for idx, entry in enumerate(entries):\n",
        "      with archive.open(entry) as file:\n",
        "        if file.name.endswith('.jpg'):\n",
        "          with Image.open(file) as img:\n",
        "            images.append(np.asarray(img))\n",
        "  return np.array(images)\n"
      ],
      "execution_count": 0,
      "outputs": []
    },
    {
      "cell_type": "markdown",
      "metadata": {
        "id": "vZIf12FhnE_u",
        "colab_type": "text"
      },
      "source": [
        "b) Using `openCV`"
      ]
    },
    {
      "cell_type": "code",
      "metadata": {
        "ExecuteTime": {
          "end_time": "2019-12-13T12:31:57.850781Z",
          "start_time": "2019-12-13T12:31:57.847147Z"
        },
        "id": "LHMTCPpd3zdz",
        "colab_type": "code",
        "colab": {}
      },
      "source": [
        "def load_data(path):\n",
        "  return np.array([cv2.imread(os.path.join(path, f)) for f in os.listdir(path)])"
      ],
      "execution_count": 0,
      "outputs": []
    },
    {
      "cell_type": "code",
      "metadata": {
        "ExecuteTime": {
          "end_time": "2019-12-13T12:32:22.452208Z",
          "start_time": "2019-12-13T12:32:00.584947Z"
        },
        "colab_type": "code",
        "id": "y1CeWmJE0_V8",
        "outputId": "a4df0010-5290-4c73-bcde-5315e354c658",
        "colab": {
          "base_uri": "https://localhost:8080/",
          "height": 34
        }
      },
      "source": [
        "path = '32x32.zip'\n",
        "trainX = load_data_from_zip(path)\n",
        "print('Train', trainX.shape)"
      ],
      "execution_count": 7,
      "outputs": [
        {
          "output_type": "stream",
          "text": [
            "Train (63569, 32, 32, 3)\n"
          ],
          "name": "stdout"
        }
      ]
    },
    {
      "cell_type": "code",
      "metadata": {
        "ExecuteTime": {
          "end_time": "2019-12-13T12:32:29.864528Z",
          "start_time": "2019-12-13T12:32:29.701141Z"
        },
        "id": "AkHyreej3zeG",
        "colab_type": "code",
        "outputId": "9e26e4c0-2ae9-4cb7-a120-5522d20dd864",
        "colab": {
          "base_uri": "https://localhost:8080/",
          "height": 266
        }
      },
      "source": [
        "plt.imshow(trainX[0])\n",
        "plt.show()"
      ],
      "execution_count": 8,
      "outputs": [
        {
          "output_type": "display_data",
          "data": {
            "image/png": "[encoded data removed]",
            "text/plain": [
              "<Figure size 432x288 with 1 Axes>"
            ]
          },
          "metadata": {
            "tags": []
          }
        }
      ]
    },
    {
      "cell_type": "markdown",
      "metadata": {
        "colab_type": "text",
        "id": "cPF4rDNbDAPB"
      },
      "source": [
        "## Preview cutie anime facezzz"
      ]
    },
    {
      "cell_type": "code",
      "metadata": {
        "ExecuteTime": {
          "end_time": "2019-12-13T12:32:33.952254Z",
          "start_time": "2019-12-13T12:32:33.386115Z"
        },
        "colab_type": "code",
        "id": "YTimIzCN1nm8",
        "outputId": "30d9104c-872a-4874-c76e-8f89c23fa0d2",
        "colab": {
          "base_uri": "https://localhost:8080/",
          "height": 248
        }
      },
      "source": [
        "# plot images from the training dataset\n",
        "for i in range(16):\n",
        "    # define subplot\n",
        "    plt.subplot(4, 4, 1 + i)\n",
        "    # turn off axis\n",
        "    plt.axis('off')\n",
        "    # plot raw pixel data\n",
        "    plt.imshow(trainX[i])\n",
        "    \n",
        "plt.show()"
      ],
      "execution_count": 9,
      "outputs": [
        {
          "output_type": "display_data",
          "data": {
            "image/png": "[encoded data removed]",
            "text/plain": [
              "<Figure size 432x288 with 16 Axes>"
            ]
          },
          "metadata": {
            "tags": []
          }
        }
      ]
    },
    {
      "cell_type": "markdown",
      "metadata": {
        "colab_type": "text",
        "id": "xilXpC6kDDvv"
      },
      "source": [
        "## Define the Discriminator"
      ]
    },
    {
      "cell_type": "code",
      "metadata": {
        "ExecuteTime": {
          "end_time": "2019-12-13T12:32:38.336749Z",
          "start_time": "2019-12-13T12:32:38.152864Z"
        },
        "colab_type": "code",
        "id": "ENGUKxwT2pIY",
        "outputId": "9dafe111-b12a-4af7-b892-94df7cb328f3",
        "colab": {
          "base_uri": "https://localhost:8080/",
          "height": 425
        }
      },
      "source": [
        "# define the standalone discriminator model\n",
        "def define_discriminator(in_shape=(32,32,3)):\n",
        "    model = Sequential()\n",
        "\n",
        "    model.add(Conv2D(256, (3,3), strides=(2, 2), padding='same', input_shape=in_shape))\n",
        "    model.add(LeakyReLU())\n",
        "    model.add(Dropout(0.5))\n",
        "\n",
        "    model.add(Conv2D(128, (3,3), strides=(2, 2), padding='same'))\n",
        "    model.add(LeakyReLU())\n",
        "    model.add(Dropout(0.35))\n",
        "\n",
        "    model.add(Flatten())\n",
        "    model.add(Dense(1, activation='sigmoid'))\n",
        "    # compile model\n",
        "    opt = Adam(lr=0.0002, beta_1=0.5)\n",
        "    model.compile(loss='binary_crossentropy', optimizer=opt, metrics=['accuracy'])\n",
        "    return model\n",
        "\n",
        "# define model\n",
        "model = define_discriminator()\n",
        "# summarize the model\n",
        "model.summary()"
      ],
      "execution_count": 72,
      "outputs": [
        {
          "output_type": "stream",
          "text": [
            "Model: \"sequential_38\"\n",
            "_________________________________________________________________\n",
            "Layer (type)                 Output Shape              Param #   \n",
            "=================================================================\n",
            "conv2d_23 (Conv2D)           (None, 16, 16, 256)       7168      \n",
            "_________________________________________________________________\n",
            "leaky_re_lu_23 (LeakyReLU)   (None, 16, 16, 256)       0         \n",
            "_________________________________________________________________\n",
            "dropout_86 (Dropout)         (None, 16, 16, 256)       0         \n",
            "_________________________________________________________________\n",
            "conv2d_24 (Conv2D)           (None, 8, 8, 128)         295040    \n",
            "_________________________________________________________________\n",
            "leaky_re_lu_24 (LeakyReLU)   (None, 8, 8, 128)         0         \n",
            "_________________________________________________________________\n",
            "dropout_87 (Dropout)         (None, 8, 8, 128)         0         \n",
            "_________________________________________________________________\n",
            "flatten_12 (Flatten)         (None, 8192)              0         \n",
            "_________________________________________________________________\n",
            "dense_32 (Dense)             (None, 1)                 8193      \n",
            "=================================================================\n",
            "Total params: 310,401\n",
            "Trainable params: 310,401\n",
            "Non-trainable params: 0\n",
            "_________________________________________________________________\n"
          ],
          "name": "stdout"
        }
      ]
    },
    {
      "cell_type": "markdown",
      "metadata": {
        "colab_type": "text",
        "id": "f3ylUV_jDK3q"
      },
      "source": [
        "### Prepare data for training"
      ]
    },
    {
      "cell_type": "code",
      "metadata": {
        "ExecuteTime": {
          "end_time": "2019-12-13T12:32:42.285436Z",
          "start_time": "2019-12-13T12:32:41.345057Z"
        },
        "colab_type": "code",
        "id": "6nBrX5AN3Fki",
        "outputId": "e0b3fa5b-3eca-41cd-8a7c-a0c1960dd610",
        "colab": {
          "base_uri": "https://localhost:8080/",
          "height": 34
        }
      },
      "source": [
        "def convert_trainX(trainX):\n",
        "    X = trainX.astype('float32')\n",
        "    X = X / 255.0\n",
        "    return X\n",
        "\n",
        "dataset = convert_trainX(trainX)\n",
        "dataset.shape"
      ],
      "execution_count": 73,
      "outputs": [
        {
          "output_type": "execute_result",
          "data": {
            "text/plain": [
              "(63569, 32, 32, 3)"
            ]
          },
          "metadata": {
            "tags": []
          },
          "execution_count": 73
        }
      ]
    },
    {
      "cell_type": "markdown",
      "metadata": {
        "colab_type": "text",
        "id": "qFgaAvurDXWZ"
      },
      "source": [
        "### Define methods for generating:\n",
        "- real samples (just sample from the dataset)\n",
        "- random fake samples - all the values are random and they represent noise"
      ]
    },
    {
      "cell_type": "code",
      "metadata": {
        "ExecuteTime": {
          "end_time": "2019-12-13T12:32:46.597075Z",
          "start_time": "2019-12-13T12:32:46.589004Z"
        },
        "colab_type": "code",
        "id": "gM_JnjuV3_HZ",
        "colab": {}
      },
      "source": [
        "# select real samples + their labels: 1 for REAL as 0 represents FAKE\n",
        "def generate_real_samples(dataset, n_samples):\n",
        "    # choose random instances\n",
        "    ix = np.random.randint(0, dataset.shape[0], n_samples)\n",
        "    # retrieve selected images\n",
        "    X = dataset[ix]\n",
        "    # generate 'real' class labels (1)\n",
        "    y = np.ones((n_samples, 1))\n",
        "    return X, y\n",
        "\n",
        "# generate n fake samples with class labels\n",
        "def generate_fake_samples(n_samples):\n",
        "    # generate uniform random numbers in [0,1]\n",
        "    X = np.random.rand(32 * 32 * 3 * n_samples)\n",
        "    # reshape into a batch of grayscale images\n",
        "    X = X.reshape((n_samples, 32, 32, 3))\n",
        "    # generate 'fake' class labels (0)\n",
        "    y = np.zeros((n_samples, 1))\n",
        "    return X, y"
      ],
      "execution_count": 0,
      "outputs": []
    },
    {
      "cell_type": "markdown",
      "metadata": {
        "colab_type": "text",
        "id": "OiGHkzDXDrwk"
      },
      "source": [
        "### Train the Discriminator on real + randomly generated images"
      ]
    },
    {
      "cell_type": "code",
      "metadata": {
        "ExecuteTime": {
          "end_time": "2019-12-13T12:32:55.477624Z",
          "start_time": "2019-12-13T12:32:49.062412Z"
        },
        "colab_type": "code",
        "id": "f1zJ8GZL4_4B",
        "outputId": "e4f4d2e4-725f-4d04-e2df-784f41ee1a45",
        "scrolled": true,
        "colab": {
          "base_uri": "https://localhost:8080/",
          "height": 187
        }
      },
      "source": [
        "# train the discriminator model\n",
        "def train_discriminator(model, dataset, n_iter=100, n_batch=256):\n",
        "    half_batch = int(n_batch / 2)\n",
        "    # manually enumerate epochs\n",
        "    for i in range(n_iter):\n",
        "        # get randomly selected 'real' samples\n",
        "        X_real, y_real = generate_real_samples(dataset, half_batch)\n",
        "        # update discriminator on real samples\n",
        "        _, real_acc = model.train_on_batch(X_real, y_real)\n",
        "        # generate 'fake' examples\n",
        "        X_fake, y_fake = generate_fake_samples(half_batch)\n",
        "        # update discriminator on fake samples\n",
        "        _, fake_acc = model.train_on_batch(X_fake, y_fake)\n",
        "        # summarize performance\n",
        "        if i % 10 == 0:\n",
        "          print('>%d real=%.0f%% fake=%.0f%%' % (i, real_acc*100, fake_acc*100))\n",
        "\n",
        "# define the discriminator model\n",
        "model = define_discriminator()\n",
        "# fit the model\n",
        "train_discriminator(model, dataset)"
      ],
      "execution_count": 75,
      "outputs": [
        {
          "output_type": "stream",
          "text": [
            ">0 real=59% fake=2%\n",
            ">10 real=97% fake=43%\n",
            ">20 real=96% fake=95%\n",
            ">30 real=95% fake=100%\n",
            ">40 real=98% fake=100%\n",
            ">50 real=99% fake=100%\n",
            ">60 real=100% fake=100%\n",
            ">70 real=99% fake=100%\n",
            ">80 real=100% fake=100%\n",
            ">90 real=100% fake=100%\n"
          ],
          "name": "stdout"
        }
      ]
    },
    {
      "cell_type": "markdown",
      "metadata": {
        "colab_type": "text",
        "id": "yhsDamVvD03v"
      },
      "source": [
        "### Define the Generator"
      ]
    },
    {
      "cell_type": "code",
      "metadata": {
        "ExecuteTime": {
          "end_time": "2019-12-13T14:01:14.983214Z",
          "start_time": "2019-12-13T14:01:14.979539Z"
        },
        "id": "kzOLVg2l3zfc",
        "colab_type": "code",
        "colab": {}
      },
      "source": [
        "from keras.layers import BatchNormalization, ReLU, Lambda\n",
        "from keras.backend import constant"
      ],
      "execution_count": 0,
      "outputs": []
    },
    {
      "cell_type": "code",
      "metadata": {
        "ExecuteTime": {
          "end_time": "2019-12-13T16:51:15.647778Z",
          "start_time": "2019-12-13T16:51:15.547996Z"
        },
        "colab_type": "code",
        "id": "knOyOrh75vgK",
        "outputId": "cb1a4503-bb30-45c8-8bc0-89bb4a1a518b",
        "colab": {
          "base_uri": "https://localhost:8080/",
          "height": 663
        }
      },
      "source": [
        "# define the standalone generator model\n",
        "def define_generator(latent_dim):\n",
        "    model = Sequential()\n",
        "    n_nodes = 128 * 4 * 4\n",
        "    model.add(Dense(n_nodes, input_dim=latent_dim))\n",
        "#     model.add(BatchNormalization())\n",
        "    model.add(ReLU())\n",
        "    model.add(Reshape((4, 4, 128)))\n",
        "    model.add(Dropout(0.3))\n",
        "\n",
        "    model.add(Conv2DTranspose(32, (2, 2), strides=(2,2), padding='same'))\n",
        "#     model.add(BatchNormalization())\n",
        "    model.add(ReLU())\n",
        "    model.add(Dropout(0.1))\n",
        "\n",
        "    model.add(Conv2DTranspose(64, (3, 3), strides=(2,2), padding='same'))\n",
        "#     model.add(BatchNormalization())\n",
        "    model.add(ReLU())\n",
        "    model.add(Dropout(0.2))\n",
        "\n",
        "    model.add(Conv2DTranspose(128, (5, 5), strides=(2,2), padding='same'))\n",
        "#     model.add(BatchNormalization())\n",
        "    model.add(ReLU())\n",
        "    model.add(Dropout(0.3))\n",
        "\n",
        "    model.add(Conv2D(3, (6, 6), activation='tanh', padding='same', name=\"output\"))\n",
        "\n",
        "    if model.get_layer(name='output').activation.__name__ == 'tanh':\n",
        "      model.add(Lambda(lambda x: (x + constant(1.0)) / constant(2.0), name=\"tanh-shift\"))\n",
        "\n",
        "    return model\n",
        "\n",
        "def get_model_summary_string(model):\n",
        "  stringlist = []\n",
        "  model.summary(print_fn=lambda x: stringlist.append(x), line_length=120)\n",
        "  return \"\\n\".join(stringlist)\n",
        "\n",
        "# define the size of the latent space\n",
        "latent_dim = 100\n",
        "# define the generator model\n",
        "model = define_generator(latent_dim)\n",
        "print(get_model_summary_string(model))"
      ],
      "execution_count": 77,
      "outputs": [
        {
          "output_type": "stream",
          "text": [
            "Model: \"sequential_40\"\n",
            "________________________________________________________________________________________________________________________\n",
            "Layer (type)                                          Output Shape                                    Param #           \n",
            "========================================================================================================================\n",
            "dense_34 (Dense)                                      (None, 2048)                                    206848            \n",
            "________________________________________________________________________________________________________________________\n",
            "re_lu_67 (ReLU)                                       (None, 2048)                                    0                 \n",
            "________________________________________________________________________________________________________________________\n",
            "reshape_21 (Reshape)                                  (None, 4, 4, 128)                               0                 \n",
            "________________________________________________________________________________________________________________________\n",
            "dropout_90 (Dropout)                                  (None, 4, 4, 128)                               0                 \n",
            "________________________________________________________________________________________________________________________\n",
            "conv2d_transpose_47 (Conv2DTranspose)                 (None, 8, 8, 32)                                16416             \n",
            "________________________________________________________________________________________________________________________\n",
            "re_lu_68 (ReLU)                                       (None, 8, 8, 32)                                0                 \n",
            "________________________________________________________________________________________________________________________\n",
            "dropout_91 (Dropout)                                  (None, 8, 8, 32)                                0                 \n",
            "________________________________________________________________________________________________________________________\n",
            "conv2d_transpose_48 (Conv2DTranspose)                 (None, 16, 16, 64)                              18496             \n",
            "________________________________________________________________________________________________________________________\n",
            "re_lu_69 (ReLU)                                       (None, 16, 16, 64)                              0                 \n",
            "________________________________________________________________________________________________________________________\n",
            "dropout_92 (Dropout)                                  (None, 16, 16, 64)                              0                 \n",
            "________________________________________________________________________________________________________________________\n",
            "conv2d_transpose_49 (Conv2DTranspose)                 (None, 32, 32, 128)                             204928            \n",
            "________________________________________________________________________________________________________________________\n",
            "re_lu_70 (ReLU)                                       (None, 32, 32, 128)                             0                 \n",
            "________________________________________________________________________________________________________________________\n",
            "dropout_93 (Dropout)                                  (None, 32, 32, 128)                             0                 \n",
            "________________________________________________________________________________________________________________________\n",
            "output (Conv2D)                                       (None, 32, 32, 3)                               13827             \n",
            "________________________________________________________________________________________________________________________\n",
            "tanh-shift (Lambda)                                   (None, 32, 32, 3)                               0                 \n",
            "========================================================================================================================\n",
            "Total params: 460,515\n",
            "Trainable params: 460,515\n",
            "Non-trainable params: 0\n",
            "________________________________________________________________________________________________________________________\n"
          ],
          "name": "stdout"
        }
      ]
    },
    {
      "cell_type": "markdown",
      "metadata": {
        "colab_type": "text",
        "id": "hH7FZ4HiD9lG"
      },
      "source": [
        "### Define methods for generating:\n",
        "- latent points for the generator\n",
        "- fake samples using the generator model"
      ]
    },
    {
      "cell_type": "code",
      "metadata": {
        "ExecuteTime": {
          "end_time": "2019-12-13T12:35:42.115049Z",
          "start_time": "2019-12-13T12:35:42.108308Z"
        },
        "colab_type": "code",
        "id": "5UPyVAb_8wGf",
        "colab": {}
      },
      "source": [
        "# generate points in latent space as input for the generator\n",
        "def generate_latent_points(latent_dim, n_samples):\n",
        "    # generate points in the latent space\n",
        "    x_input = np.random.randn(latent_dim * n_samples)\n",
        "    # reshape into a batch of inputs for the network\n",
        "    x_input = x_input.reshape(n_samples, latent_dim)\n",
        "    return x_input\n",
        "\n",
        "# use the generator to generate n fake examples, with class labels\n",
        "def generate_fake_samples_with_generator(g_model, latent_dim, n_samples):\n",
        "    # generate points in latent space\n",
        "    x_input = generate_latent_points(latent_dim, n_samples)\n",
        "    # predict outputs\n",
        "    X = g_model.predict(x_input)\n",
        "\n",
        "    ''' NOT USED NOW\n",
        "    # check generator's output activation as it changes output range\n",
        "    if g_model.get_layer(name='output').activation.__name__ == 'tanh':\n",
        "      # if tanh, change [-1, 1] range into [0, 1]\n",
        "      X = X + 1.0 / 2.0\n",
        "    elif model.get_layer(name='output').activation.__name__ == 'sigmoid':\n",
        "      # if sigmoid, do nothing\n",
        "      pass\n",
        "    else:\n",
        "      raise Exception(\"Other activations in generator's output are not supported yet!\")\n",
        "    '''\n",
        "\n",
        "    # create 'fake' class labels (0)\n",
        "    y = np.zeros((n_samples, 1))\n",
        "    return X, y"
      ],
      "execution_count": 0,
      "outputs": []
    },
    {
      "cell_type": "markdown",
      "metadata": {
        "colab_type": "text",
        "id": "S8ODDd67EdCs"
      },
      "source": [
        "### Preview what the Generator generates without training"
      ]
    },
    {
      "cell_type": "code",
      "metadata": {
        "ExecuteTime": {
          "end_time": "2019-12-13T12:35:44.779694Z",
          "start_time": "2019-12-13T12:35:44.250720Z"
        },
        "colab_type": "code",
        "id": "uhhnbeze87Km",
        "outputId": "0da39aa4-5024-4d5b-e66a-333f683a90fe",
        "colab": {
          "base_uri": "https://localhost:8080/",
          "height": 266
        }
      },
      "source": [
        "# size of the latent space\n",
        "latent_dim = 100\n",
        "# define the discriminator model\n",
        "model = define_generator(latent_dim)\n",
        "# generate samples\n",
        "n_samples = 4\n",
        "X, _ = generate_fake_samples_with_generator(model, latent_dim, n_samples)\n",
        "plt.imshow(X[0, :, :])\n",
        "# show the figure\n",
        "plt.show()"
      ],
      "execution_count": 79,
      "outputs": [
        {
          "output_type": "display_data",
          "data": {
            "image/png": "[encoded data removed]",
            "text/plain": [
              "<Figure size 432x288 with 1 Axes>"
            ]
          },
          "metadata": {
            "tags": []
          }
        }
      ]
    },
    {
      "cell_type": "markdown",
      "metadata": {
        "colab_type": "text",
        "id": "aCRUIeYrEsHc"
      },
      "source": [
        "### Define the generator+discriminator model that will update generator's weights\n",
        "- the generator's aim is to produce fake samples that look like real samples\n",
        "- backpropagation will not modify discriminator's weights"
      ]
    },
    {
      "cell_type": "code",
      "metadata": {
        "ExecuteTime": {
          "end_time": "2019-12-13T16:44:33.316408Z",
          "start_time": "2019-12-13T16:44:32.656478Z"
        },
        "colab_type": "code",
        "id": "VAC1clHL9N2O",
        "colab": {}
      },
      "source": [
        "# define the combined generator and discriminator model, for updating the generator\n",
        "def define_gan(g_model, d_model):\n",
        "    # make weights in the discriminator not trainable\n",
        "    d_model.trainable = False\n",
        "    # connect them\n",
        "    model = Sequential()\n",
        "    # add generator\n",
        "    model.add(g_model)\n",
        "    # add the discriminator\n",
        "    model.add(d_model)\n",
        "    # compile model\n",
        "    opt = Adam(lr=0.0002, beta_1=0.5)\n",
        "    model.compile(loss='binary_crossentropy', optimizer=opt)\n",
        "    return model"
      ],
      "execution_count": 0,
      "outputs": []
    },
    {
      "cell_type": "markdown",
      "metadata": {
        "colab_type": "text",
        "id": "fa9bfl2sFTee"
      },
      "source": [
        "### Define the `train` method for both generator and discriminator\n",
        "1. Train discriminator on 50% real samples (from the dataset) and 50% fake samples generated by the generator\n",
        "2. Train generator as follows:\n",
        "  - feed latent points into the generator\n",
        "  - take generator's output and input to the discriminator\n",
        "  - compute discriminator's loss when all generated samples' labels were '1' (\"REAL\")\n",
        "  - update generator's weights accordingly\n",
        "    - discriminator outputs 0.25: bigger penalty (poor 'fake' sample)\n",
        "    - discriminator outputs 0.9: smaller penalty (good 'fake' sample)"
      ]
    },
    {
      "cell_type": "code",
      "metadata": {
        "ExecuteTime": {
          "end_time": "2019-12-13T16:44:46.236461Z",
          "start_time": "2019-12-13T16:44:46.224881Z"
        },
        "colab_type": "code",
        "id": "6fSEaN0P_eVo",
        "colab": {}
      },
      "source": [
        "# train the generator and discriminator\n",
        "def train(g_model, d_model, gan_model, dataset, latent_dim, n_epochs=100, n_batch=256, save_every=10, label=None):\n",
        "    bat_per_epo = int(dataset.shape[0] / n_batch)\n",
        "    half_batch = int(n_batch / 2)\n",
        "    acc_real_list, acc_fake_list = [], []\n",
        "    loss_real_list, loss_fake_list = [], []\n",
        "\n",
        "    timestamp = time.strftime(\"%Y-%m-%d_%H:%M:%S\")\n",
        "    if label:\n",
        "      timestamp = label + '-' + timestamp\n",
        "\n",
        "    if not os.path.isdir(timestamp):\n",
        "        os.mkdir(timestamp)\n",
        "    print(f\">>> MODEL AND ITS EVALUATION CAN BE FOUND IN {timestamp} DIRECTORY :)\")\n",
        "\n",
        "    # dump model summary into file\n",
        "    with open(os.path.join(timestamp, f\"SUMMARY-{timestamp}.txt\"), \"w\") as summary_file:\n",
        "      summary_file.write(\"DISCRIMINATOR:\\n\")\n",
        "      summary_file.write(get_model_summary_string(d_model))\n",
        "      summary_file.write(\"\\nGENERATOR:\\n\")\n",
        "      summary_file.write(get_model_summary_string(g_model))\n",
        "\n",
        "    # manually enumerate epochs\n",
        "    for i in range(n_epochs):\n",
        "        # enumerate batches over the training set\n",
        "        for j in range(bat_per_epo):\n",
        "            # get randomly selected 'real' samples\n",
        "            X_real, y_real = generate_real_samples(dataset, half_batch)\n",
        "            # generate 'fake' examples\n",
        "            X_fake, y_fake = generate_fake_samples_with_generator(g_model, latent_dim, half_batch)\n",
        "            # create training set for the discriminator\n",
        "            X, y = np.vstack((X_real, X_fake)), np.vstack((y_real, y_fake))\n",
        "            # train distriminator with 50% fake examples and 50% real examples\n",
        "            d_loss, _ = d_model.train_on_batch(X, y)\n",
        "            # prepare points in latent space as input for the generator\n",
        "            X_gan = generate_latent_points(latent_dim, n_batch)\n",
        "            # create inverted labels for the fake samples\n",
        "            y_gan = np.ones((n_batch, 1))\n",
        "            # update the generator via the discriminator's error\n",
        "            g_loss = gan_model.train_on_batch(X_gan, y_gan)\n",
        "\n",
        "            # summarize loss on this batch\n",
        "            # print('\\t >%d, %d/%d, d=%.3f, g=%.3f' % (i+1, j+1, bat_per_epo, d_loss, g_loss))\n",
        "\n",
        "        # EVALUATION\n",
        "        n_samples = 64\n",
        "        # prepare real samples\n",
        "        X_real, y_real = generate_real_samples(dataset, n_samples)\n",
        "        # evaluate discriminator on real examples\n",
        "        loss_real, acc_real = d_model.evaluate(X_real, y_real, verbose=0)\n",
        "        acc_real_list.append(acc_real); loss_real_list.append(loss_real)\n",
        "\n",
        "        # prepare fake examples\n",
        "        x_fake, y_fake = generate_fake_samples_with_generator(g_model, latent_dim, n_samples)\n",
        "        # evaluate discriminator on fake examples\n",
        "        loss_fake, acc_fake = d_model.evaluate(x_fake, y_fake, verbose=0)\n",
        "        acc_fake_list.append(acc_fake); loss_fake_list.append(loss_fake)\n",
        "\n",
        "        print('\\n> %d, real_acc=%.3f, fake_acc=%.3f' % (i+1, acc_real, acc_fake))\n",
        "        print('> %d, real_loss=%.3f, fake_loss=%.3f\\n' % (i+1, loss_real, loss_fake))\n",
        "\n",
        "        if (i+1) % save_every == 0:\n",
        "            print()\n",
        "            # save generating images result\n",
        "            save_images_plot(x_fake, i, timestamp=timestamp, n=8)\n",
        "\n",
        "            # save plot with accuracy\n",
        "            save_measure_plot(acc_real_list, acc_fake_list, i, label='accuracy', timestamp=timestamp)\n",
        "\n",
        "            # save plot with loss\n",
        "            save_measure_plot(loss_real_list, loss_fake_list, i, label='loss', timestamp=timestamp)\n",
        "\n",
        "            # save model\n",
        "            save_model(g_model, i, timestamp=timestamp)"
      ],
      "execution_count": 0,
      "outputs": []
    },
    {
      "cell_type": "markdown",
      "metadata": {
        "id": "s_z_rOZei2mt",
        "colab_type": "text"
      },
      "source": [
        "### [utils] Define `save_measure_plot` function\n",
        "This method creates a plot with two lines representing discriminator's performance (e.g. accuracy or loss) on real and fake (generated) images accross epochs. The plot is saved to file according to the model's timestamp (or label+timestamp)"
      ]
    },
    {
      "cell_type": "code",
      "metadata": {
        "ExecuteTime": {
          "end_time": "2019-12-13T12:36:03.741820Z",
          "start_time": "2019-12-13T12:36:03.734825Z"
        },
        "colab_type": "code",
        "id": "ZdZtZ0zRKEgo",
        "colab": {}
      },
      "source": [
        "def save_measure_plot(real_list, fake_list, epoch, label='accuracy', timestamp=''):\n",
        "    print(\"[ ] Creating plots for %s, epoch %d...\" % (label, epoch+1))\n",
        "    # filename = '%s_%s_plot_e%03d.png' % (timestamp, label, epoch+1)\n",
        "    filename = '%s_%s_plot.png' % (timestamp, label)\n",
        "    plt.figure(figsize=(14, 5))\n",
        "\n",
        "    # plt.subplot(121)\n",
        "    plt.plot([i for i in range(len(real_list))], real_list, label=f\"real {label}\")\n",
        "\n",
        "    # plt.subplot(122)\n",
        "    plt.plot([i for i in range(len(fake_list))], fake_list, label=f\"fake {label}\")\n",
        "    plt.title(\"real / fake %s\" % (label))\n",
        "  \n",
        "    plt.legend(loc=\"best\")\n",
        "    plt.savefig(os.path.join(timestamp, filename))\n",
        "    plt.close()"
      ],
      "execution_count": 0,
      "outputs": []
    },
    {
      "cell_type": "markdown",
      "metadata": {
        "id": "1mo4-98ljjhX",
        "colab_type": "text"
      },
      "source": [
        "### [utils] Define `save_images_plot` function\n",
        "This method creates a plot with n*n images generated using the generator model and saves it."
      ]
    },
    {
      "cell_type": "code",
      "metadata": {
        "ExecuteTime": {
          "end_time": "2019-12-13T12:36:04.190156Z",
          "start_time": "2019-12-13T12:36:04.182578Z"
        },
        "colab_type": "code",
        "id": "xG6k9rKtCNwc",
        "colab": {}
      },
      "source": [
        "# create and save a plot of generated images (reversed grayscale)\n",
        "def save_images_plot(examples, epoch, n=4, timestamp=''):\n",
        "    print(\"[ ] Creating images preview of %d examples, epoch %d...\" % (n*n, epoch+1))\n",
        "    plt.figure(figsize=(15,15))\n",
        "    for i in range(n * n):\n",
        "        plt.subplot(n, n, 1 + i)\n",
        "        plt.axis('off')\n",
        "        plt.imshow(examples[i], alpha=1.0)\n",
        "    filename = '%s_generated_plot_e%03d.png' % (timestamp, epoch+1)\n",
        "    plt.savefig(os.path.join(timestamp, filename))\n",
        "    plt.close()"
      ],
      "execution_count": 0,
      "outputs": []
    },
    {
      "cell_type": "markdown",
      "metadata": {
        "id": "NnV6PmT1js9b",
        "colab_type": "text"
      },
      "source": [
        "### [utils] Define `save_model` function\n",
        "This method saves current model under timestamp/model/ directory for further usage. Each filename contains information about the epoch number."
      ]
    },
    {
      "cell_type": "code",
      "metadata": {
        "ExecuteTime": {
          "end_time": "2019-12-13T12:36:04.948965Z",
          "start_time": "2019-12-13T12:36:04.938091Z"
        },
        "colab_type": "code",
        "id": "sfGUi2K1azYz",
        "colab": {}
      },
      "source": [
        "def save_model(g_model, epoch, timestamp=''):\n",
        "    if not os.path.isdir(os.path.join(timestamp, 'model')):\n",
        "        os.mkdir(os.path.join(timestamp, 'model'))\n",
        "    filename = os.path.join(timestamp, 'model', 'generator_%03d.h5' % (epoch + 1))\n",
        "    g_model.save(filename)"
      ],
      "execution_count": 0,
      "outputs": []
    },
    {
      "cell_type": "markdown",
      "metadata": {
        "id": "0HZI6QC4j8Z-",
        "colab_type": "text"
      },
      "source": [
        "## TRAIN! It's here"
      ]
    },
    {
      "cell_type": "code",
      "metadata": {
        "ExecuteTime": {
          "end_time": "2019-12-13T16:50:03.419908Z",
          "start_time": "2019-12-13T16:44:49.457417Z"
        },
        "id": "XY2Hb9Sc3zgs",
        "colab_type": "code",
        "outputId": "4e99b4a3-7687-46aa-c1e6-b717340f4530",
        "colab": {
          "base_uri": "https://localhost:8080/",
          "height": 1000
        }
      },
      "source": [
        "'''\n",
        "COMMENT LINES BELOW FOR FURTHER TRAINING!\n",
        "'''\n",
        "# # size of the latent space\n",
        "# latent_dim = 100\n",
        "# # create the discriminator\n",
        "# d_model = define_discriminator()\n",
        "# # create the generator\n",
        "# g_model = define_generator(latent_dim)\n",
        "# # create the gan\n",
        "# gan_model = define_gan(g_model, d_model)\n",
        "\n",
        "train(g_model, d_model, gan_model, dataset, latent_dim, n_epochs=100, n_batch=256, save_every=10, label='T-cf-discr+-100+')"
      ],
      "execution_count": 86,
      "outputs": [
        {
          "output_type": "stream",
          "text": [
            ">>> MODEL AND ITS EVALUATION CAN BE FOUND IN T-cf-discr+-100+-2019-12-19_13:11:04 DIRECTORY :)\n"
          ],
          "name": "stdout"
        },
        {
          "output_type": "stream",
          "text": [
            "/usr/local/lib/python3.6/dist-packages/keras/engine/training.py:493: UserWarning: Discrepancy between trainable weights and collected trainable weights, did you set `model.trainable` without calling `model.compile` after ?\n",
            "  'Discrepancy between trainable weights and collected trainable'\n"
          ],
          "name": "stderr"
        },
        {
          "output_type": "stream",
          "text": [
            "\n",
            "> 1, real_acc=0.188, fake_acc=1.000\n",
            "> 1, real_loss=0.935, fake_loss=0.292\n",
            "\n",
            "\n",
            "> 2, real_acc=0.922, fake_acc=0.672\n",
            "> 2, real_loss=0.414, fake_loss=0.623\n",
            "\n",
            "\n",
            "> 3, real_acc=0.516, fake_acc=1.000\n",
            "> 3, real_loss=0.682, fake_loss=0.401\n",
            "\n",
            "\n",
            "> 4, real_acc=0.438, fake_acc=1.000\n",
            "> 4, real_loss=0.797, fake_loss=0.309\n",
            "\n",
            "\n",
            "> 5, real_acc=0.359, fake_acc=1.000\n",
            "> 5, real_loss=0.886, fake_loss=0.314\n",
            "\n",
            "\n",
            "> 6, real_acc=0.609, fake_acc=0.984\n",
            "> 6, real_loss=0.632, fake_loss=0.427\n",
            "\n",
            "\n",
            "> 7, real_acc=0.766, fake_acc=1.000\n",
            "> 7, real_loss=0.581, fake_loss=0.426\n",
            "\n",
            "\n",
            "> 8, real_acc=0.906, fake_acc=0.906\n",
            "> 8, real_loss=0.485, fake_loss=0.533\n",
            "\n",
            "\n",
            "> 9, real_acc=0.531, fake_acc=1.000\n",
            "> 9, real_loss=0.675, fake_loss=0.369\n",
            "\n",
            "\n",
            "> 10, real_acc=0.750, fake_acc=0.891\n",
            "> 10, real_loss=0.555, fake_loss=0.507\n",
            "\n",
            "\n",
            "[ ] Creating images preview of 64 examples, epoch 10...\n",
            "[ ] Creating plots for accuracy, epoch 10...\n",
            "[ ] Creating plots for loss, epoch 10...\n",
            "\n",
            "> 11, real_acc=0.922, fake_acc=0.578\n",
            "> 11, real_loss=0.418, fake_loss=0.691\n",
            "\n",
            "\n",
            "> 12, real_acc=0.453, fake_acc=1.000\n",
            "> 12, real_loss=0.726, fake_loss=0.441\n",
            "\n",
            "\n",
            "> 13, real_acc=0.562, fake_acc=1.000\n",
            "> 13, real_loss=0.701, fake_loss=0.392\n",
            "\n",
            "\n",
            "> 14, real_acc=0.938, fake_acc=0.734\n",
            "> 14, real_loss=0.462, fake_loss=0.596\n",
            "\n",
            "\n",
            "> 15, real_acc=0.438, fake_acc=0.953\n",
            "> 15, real_loss=0.733, fake_loss=0.428\n",
            "\n",
            "\n",
            "> 16, real_acc=0.875, fake_acc=0.703\n",
            "> 16, real_loss=0.476, fake_loss=0.645\n",
            "\n",
            "\n",
            "> 17, real_acc=0.766, fake_acc=0.969\n",
            "> 17, real_loss=0.589, fake_loss=0.477\n",
            "\n",
            "\n",
            "> 18, real_acc=0.656, fake_acc=1.000\n",
            "> 18, real_loss=0.623, fake_loss=0.429\n",
            "\n",
            "\n",
            "> 19, real_acc=0.234, fake_acc=1.000\n",
            "> 19, real_loss=0.885, fake_loss=0.327\n",
            "\n",
            "\n",
            "> 20, real_acc=0.641, fake_acc=0.891\n",
            "> 20, real_loss=0.622, fake_loss=0.512\n",
            "\n",
            "\n",
            "[ ] Creating images preview of 64 examples, epoch 20...\n",
            "[ ] Creating plots for accuracy, epoch 20...\n",
            "[ ] Creating plots for loss, epoch 20...\n",
            "\n",
            "> 21, real_acc=0.875, fake_acc=0.594\n",
            "> 21, real_loss=0.480, fake_loss=0.648\n",
            "\n",
            "\n",
            "> 22, real_acc=0.438, fake_acc=1.000\n",
            "> 22, real_loss=0.761, fake_loss=0.397\n",
            "\n",
            "\n",
            "> 23, real_acc=0.281, fake_acc=1.000\n",
            "> 23, real_loss=0.815, fake_loss=0.292\n",
            "\n",
            "\n",
            "> 24, real_acc=0.828, fake_acc=0.953\n",
            "> 24, real_loss=0.487, fake_loss=0.497\n",
            "\n",
            "\n",
            "> 25, real_acc=0.938, fake_acc=0.953\n",
            "> 25, real_loss=0.470, fake_loss=0.557\n",
            "\n",
            "\n",
            "> 26, real_acc=0.422, fake_acc=1.000\n",
            "> 26, real_loss=0.705, fake_loss=0.348\n",
            "\n",
            "\n",
            "> 27, real_acc=0.500, fake_acc=1.000\n",
            "> 27, real_loss=0.706, fake_loss=0.370\n",
            "\n",
            "\n",
            "> 28, real_acc=1.000, fake_acc=0.109\n",
            "> 28, real_loss=0.275, fake_loss=0.862\n",
            "\n",
            "\n",
            "> 29, real_acc=0.281, fake_acc=0.984\n",
            "> 29, real_loss=0.834, fake_loss=0.311\n",
            "\n",
            "\n",
            "> 30, real_acc=0.875, fake_acc=0.922\n",
            "> 30, real_loss=0.509, fake_loss=0.501\n",
            "\n",
            "\n",
            "[ ] Creating images preview of 64 examples, epoch 30...\n",
            "[ ] Creating plots for accuracy, epoch 30...\n",
            "[ ] Creating plots for loss, epoch 30...\n",
            "\n",
            "> 31, real_acc=0.719, fake_acc=0.953\n",
            "> 31, real_loss=0.600, fake_loss=0.472\n",
            "\n",
            "\n",
            "> 32, real_acc=0.531, fake_acc=1.000\n",
            "> 32, real_loss=0.671, fake_loss=0.399\n",
            "\n",
            "\n",
            "> 33, real_acc=0.891, fake_acc=0.891\n",
            "> 33, real_loss=0.486, fake_loss=0.543\n",
            "\n",
            "\n",
            "> 34, real_acc=0.578, fake_acc=1.000\n",
            "> 34, real_loss=0.670, fake_loss=0.419\n",
            "\n",
            "\n",
            "> 35, real_acc=0.875, fake_acc=0.906\n",
            "> 35, real_loss=0.508, fake_loss=0.522\n",
            "\n",
            "\n",
            "> 36, real_acc=0.953, fake_acc=0.391\n",
            "> 36, real_loss=0.439, fake_loss=0.728\n",
            "\n",
            "\n",
            "> 37, real_acc=0.766, fake_acc=0.891\n",
            "> 37, real_loss=0.540, fake_loss=0.584\n",
            "\n",
            "\n",
            "> 38, real_acc=0.062, fake_acc=1.000\n",
            "> 38, real_loss=1.095, fake_loss=0.244\n",
            "\n",
            "\n",
            "> 39, real_acc=0.953, fake_acc=0.141\n",
            "> 39, real_loss=0.328, fake_loss=0.942\n",
            "\n",
            "\n",
            "> 40, real_acc=0.641, fake_acc=1.000\n",
            "> 40, real_loss=0.684, fake_loss=0.431\n",
            "\n",
            "\n",
            "[ ] Creating images preview of 64 examples, epoch 40...\n",
            "[ ] Creating plots for accuracy, epoch 40...\n",
            "[ ] Creating plots for loss, epoch 40...\n",
            "\n",
            "> 41, real_acc=0.938, fake_acc=0.656\n",
            "> 41, real_loss=0.452, fake_loss=0.641\n",
            "\n",
            "\n",
            "> 42, real_acc=0.547, fake_acc=0.984\n",
            "> 42, real_loss=0.707, fake_loss=0.400\n",
            "\n",
            "\n",
            "> 43, real_acc=0.781, fake_acc=0.844\n",
            "> 43, real_loss=0.528, fake_loss=0.562\n",
            "\n",
            "\n",
            "> 44, real_acc=0.656, fake_acc=0.953\n",
            "> 44, real_loss=0.628, fake_loss=0.400\n",
            "\n",
            "\n",
            "> 45, real_acc=0.891, fake_acc=0.391\n",
            "> 45, real_loss=0.497, fake_loss=0.733\n",
            "\n",
            "\n",
            "> 46, real_acc=0.219, fake_acc=1.000\n",
            "> 46, real_loss=0.925, fake_loss=0.313\n",
            "\n",
            "\n",
            "> 47, real_acc=0.922, fake_acc=0.969\n",
            "> 47, real_loss=0.428, fake_loss=0.529\n",
            "\n",
            "\n",
            "> 48, real_acc=0.500, fake_acc=0.984\n",
            "> 48, real_loss=0.712, fake_loss=0.403\n",
            "\n",
            "\n",
            "> 49, real_acc=1.000, fake_acc=0.000\n",
            "> 49, real_loss=0.210, fake_loss=1.388\n",
            "\n",
            "\n",
            "> 50, real_acc=0.531, fake_acc=0.984\n",
            "> 50, real_loss=0.685, fake_loss=0.431\n",
            "\n",
            "\n",
            "[ ] Creating images preview of 64 examples, epoch 50...\n",
            "[ ] Creating plots for accuracy, epoch 50...\n",
            "[ ] Creating plots for loss, epoch 50...\n",
            "\n",
            "> 51, real_acc=0.359, fake_acc=1.000\n",
            "> 51, real_loss=0.797, fake_loss=0.307\n",
            "\n",
            "\n",
            "> 52, real_acc=0.266, fake_acc=1.000\n",
            "> 52, real_loss=0.848, fake_loss=0.335\n",
            "\n",
            "\n",
            "> 53, real_acc=0.906, fake_acc=0.969\n",
            "> 53, real_loss=0.504, fake_loss=0.492\n",
            "\n",
            "\n",
            "> 54, real_acc=0.984, fake_acc=0.359\n",
            "> 54, real_loss=0.364, fake_loss=0.781\n",
            "\n",
            "\n",
            "> 55, real_acc=0.609, fake_acc=1.000\n",
            "> 55, real_loss=0.622, fake_loss=0.420\n",
            "\n",
            "\n",
            "> 56, real_acc=0.828, fake_acc=0.766\n",
            "> 56, real_loss=0.500, fake_loss=0.573\n",
            "\n",
            "\n",
            "> 57, real_acc=0.609, fake_acc=0.859\n",
            "> 57, real_loss=0.635, fake_loss=0.530\n",
            "\n",
            "\n",
            "> 58, real_acc=1.000, fake_acc=0.203\n",
            "> 58, real_loss=0.295, fake_loss=0.871\n",
            "\n",
            "\n",
            "> 59, real_acc=0.922, fake_acc=0.656\n",
            "> 59, real_loss=0.452, fake_loss=0.653\n",
            "\n",
            "\n",
            "> 60, real_acc=0.984, fake_acc=0.359\n",
            "> 60, real_loss=0.369, fake_loss=0.863\n",
            "\n",
            "\n",
            "[ ] Creating images preview of 64 examples, epoch 60...\n",
            "[ ] Creating plots for accuracy, epoch 60...\n",
            "[ ] Creating plots for loss, epoch 60...\n",
            "\n",
            "> 61, real_acc=1.000, fake_acc=0.031\n",
            "> 61, real_loss=0.267, fake_loss=1.061\n",
            "\n",
            "\n",
            "> 62, real_acc=0.531, fake_acc=1.000\n",
            "> 62, real_loss=0.691, fake_loss=0.385\n",
            "\n",
            "\n",
            "> 63, real_acc=0.750, fake_acc=0.953\n",
            "> 63, real_loss=0.574, fake_loss=0.448\n",
            "\n",
            "\n",
            "> 64, real_acc=0.734, fake_acc=0.922\n",
            "> 64, real_loss=0.533, fake_loss=0.525\n",
            "\n",
            "\n",
            "> 65, real_acc=0.500, fake_acc=0.984\n",
            "> 65, real_loss=0.682, fake_loss=0.377\n",
            "\n",
            "\n",
            "> 66, real_acc=0.766, fake_acc=0.875\n",
            "> 66, real_loss=0.569, fake_loss=0.484\n",
            "\n",
            "\n",
            "> 67, real_acc=0.391, fake_acc=1.000\n",
            "> 67, real_loss=0.732, fake_loss=0.427\n",
            "\n",
            "\n",
            "> 68, real_acc=0.328, fake_acc=1.000\n",
            "> 68, real_loss=0.802, fake_loss=0.430\n",
            "\n",
            "\n",
            "> 69, real_acc=0.953, fake_acc=0.297\n",
            "> 69, real_loss=0.379, fake_loss=0.815\n",
            "\n",
            "\n",
            "> 70, real_acc=0.750, fake_acc=0.984\n",
            "> 70, real_loss=0.610, fake_loss=0.471\n",
            "\n",
            "\n",
            "[ ] Creating images preview of 64 examples, epoch 70...\n",
            "[ ] Creating plots for accuracy, epoch 70...\n",
            "[ ] Creating plots for loss, epoch 70...\n",
            "\n",
            "> 71, real_acc=0.953, fake_acc=0.656\n",
            "> 71, real_loss=0.425, fake_loss=0.660\n",
            "\n",
            "\n",
            "> 72, real_acc=0.344, fake_acc=0.969\n",
            "> 72, real_loss=0.777, fake_loss=0.456\n",
            "\n",
            "\n",
            "> 73, real_acc=0.891, fake_acc=0.547\n",
            "> 73, real_loss=0.417, fake_loss=0.683\n",
            "\n",
            "\n",
            "> 74, real_acc=0.672, fake_acc=0.984\n",
            "> 74, real_loss=0.650, fake_loss=0.445\n",
            "\n",
            "\n",
            "> 75, real_acc=0.609, fake_acc=0.984\n",
            "> 75, real_loss=0.613, fake_loss=0.448\n",
            "\n",
            "\n",
            "> 76, real_acc=0.062, fake_acc=1.000\n",
            "> 76, real_loss=1.216, fake_loss=0.198\n",
            "\n",
            "\n",
            "> 77, real_acc=0.984, fake_acc=0.000\n",
            "> 77, real_loss=0.204, fake_loss=1.290\n",
            "\n",
            "\n",
            "> 78, real_acc=0.625, fake_acc=1.000\n",
            "> 78, real_loss=0.625, fake_loss=0.387\n",
            "\n",
            "\n",
            "> 79, real_acc=0.922, fake_acc=0.656\n",
            "> 79, real_loss=0.349, fake_loss=0.632\n",
            "\n",
            "\n",
            "> 80, real_acc=0.609, fake_acc=1.000\n",
            "> 80, real_loss=0.623, fake_loss=0.450\n",
            "\n",
            "\n",
            "[ ] Creating images preview of 64 examples, epoch 80...\n",
            "[ ] Creating plots for accuracy, epoch 80...\n",
            "[ ] Creating plots for loss, epoch 80...\n",
            "\n",
            "> 81, real_acc=0.359, fake_acc=1.000\n",
            "> 81, real_loss=0.751, fake_loss=0.433\n",
            "\n",
            "\n",
            "> 82, real_acc=0.875, fake_acc=0.766\n",
            "> 82, real_loss=0.493, fake_loss=0.609\n",
            "\n",
            "\n",
            "> 83, real_acc=0.688, fake_acc=0.938\n",
            "> 83, real_loss=0.618, fake_loss=0.494\n",
            "\n",
            "\n",
            "> 84, real_acc=0.344, fake_acc=1.000\n",
            "> 84, real_loss=0.742, fake_loss=0.357\n",
            "\n",
            "\n",
            "> 85, real_acc=0.219, fake_acc=1.000\n",
            "> 85, real_loss=0.899, fake_loss=0.281\n",
            "\n",
            "\n",
            "> 86, real_acc=0.875, fake_acc=0.844\n",
            "> 86, real_loss=0.494, fake_loss=0.578\n",
            "\n",
            "\n",
            "> 87, real_acc=0.703, fake_acc=0.922\n",
            "> 87, real_loss=0.598, fake_loss=0.481\n",
            "\n",
            "\n",
            "> 88, real_acc=0.562, fake_acc=0.984\n",
            "> 88, real_loss=0.705, fake_loss=0.382\n",
            "\n",
            "\n",
            "> 89, real_acc=0.750, fake_acc=0.609\n",
            "> 89, real_loss=0.537, fake_loss=0.640\n",
            "\n",
            "\n",
            "> 90, real_acc=0.750, fake_acc=0.938\n",
            "> 90, real_loss=0.566, fake_loss=0.539\n",
            "\n",
            "\n",
            "[ ] Creating images preview of 64 examples, epoch 90...\n",
            "[ ] Creating plots for accuracy, epoch 90...\n",
            "[ ] Creating plots for loss, epoch 90...\n",
            "\n",
            "> 91, real_acc=0.516, fake_acc=1.000\n",
            "> 91, real_loss=0.703, fake_loss=0.424\n",
            "\n",
            "\n",
            "> 92, real_acc=0.938, fake_acc=0.688\n",
            "> 92, real_loss=0.463, fake_loss=0.647\n",
            "\n",
            "\n",
            "> 93, real_acc=0.109, fake_acc=1.000\n",
            "> 93, real_loss=1.072, fake_loss=0.239\n",
            "\n",
            "\n",
            "> 94, real_acc=0.359, fake_acc=0.953\n",
            "> 94, real_loss=0.737, fake_loss=0.426\n",
            "\n",
            "\n",
            "> 95, real_acc=0.922, fake_acc=0.531\n",
            "> 95, real_loss=0.461, fake_loss=0.691\n",
            "\n",
            "\n",
            "> 96, real_acc=0.922, fake_acc=0.891\n",
            "> 96, real_loss=0.446, fake_loss=0.526\n",
            "\n",
            "\n",
            "> 97, real_acc=0.953, fake_acc=0.250\n",
            "> 97, real_loss=0.428, fake_loss=0.797\n",
            "\n",
            "\n",
            "> 98, real_acc=0.984, fake_acc=0.359\n",
            "> 98, real_loss=0.357, fake_loss=0.781\n",
            "\n",
            "\n",
            "> 99, real_acc=0.922, fake_acc=0.766\n",
            "> 99, real_loss=0.485, fake_loss=0.591\n",
            "\n",
            "\n",
            "> 100, real_acc=0.281, fake_acc=1.000\n",
            "> 100, real_loss=0.813, fake_loss=0.339\n",
            "\n",
            "\n",
            "[ ] Creating images preview of 64 examples, epoch 100...\n",
            "[ ] Creating plots for accuracy, epoch 100...\n",
            "[ ] Creating plots for loss, epoch 100...\n"
          ],
          "name": "stdout"
        }
      ]
    },
    {
      "cell_type": "code",
      "metadata": {
        "id": "dWFPRu4GiQJH",
        "colab_type": "code",
        "outputId": "ac822e2b-41db-4d3c-8993-3f2ebf436c0f",
        "colab": {
          "base_uri": "https://localhost:8080/",
          "height": 283
        }
      },
      "source": [
        "# generate images\n",
        "num_images = 64\n",
        "# generate images\n",
        "X, _ = generate_fake_samples_with_generator(g_model, 100, num_images)\n",
        "idx = np.random.randint(0, num_images)\n",
        "plt.imshow(X[idx])\n",
        "np.min(X[idx]), np.max(X[idx])"
      ],
      "execution_count": 25,
      "outputs": [
        {
          "output_type": "execute_result",
          "data": {
            "text/plain": [
              "(0.026652128, 0.99965537)"
            ]
          },
          "metadata": {
            "tags": []
          },
          "execution_count": 25
        },
        {
          "output_type": "display_data",
          "data": {
            "image/png": "[encoded data removed]",
            "text/plain": [
              "<Figure size 432x288 with 1 Axes>"
            ]
          },
          "metadata": {
            "tags": []
          }
        }
      ]
    },
    {
      "cell_type": "code",
      "metadata": {
        "ExecuteTime": {
          "end_time": "2019-12-13T15:30:21.975641Z",
          "start_time": "2019-12-13T15:30:19.973308Z"
        },
        "id": "HgLNXRzz3zgy",
        "colab_type": "code",
        "colab": {}
      },
      "source": [
        "# example of loading the generator model and generating images\n",
        "from keras.models import load_model\n",
        "\n",
        "timestamp = \"2019-12-13_15:49:41\"\n",
        "# load model\n",
        "model1 = load_model(timestamp + '/model/generator_060.h5')\n",
        "# generate images\n",
        "latent_points = generate_latent_points(100, 64)\n",
        "# generate images\n",
        "X = model1.predict(latent_points)\n",
        "# plot the result\n",
        "save_images_plot(X, 99, timestamp=timestamp, n=8)"
      ],
      "execution_count": 0,
      "outputs": []
    },
    {
      "cell_type": "code",
      "metadata": {
        "id": "Mff1Ub5ihfu8",
        "colab_type": "code",
        "outputId": "6c0f06e5-ab87-4d8a-923f-fc6ce4d44688",
        "colab": {
          "base_uri": "https://localhost:8080/",
          "height": 255
        }
      },
      "source": [
        "! zip T-cf-discr+-100+-2019-12-19_13:11:04.zip T-cf-discr+-100+-2019-12-19_13:11:04/*"
      ],
      "execution_count": 88,
      "outputs": [
        {
          "output_type": "stream",
          "text": [
            "updating: T-cf-discr+-100+-2019-12-19_13:11:04/model/ (stored 0%)\n",
            "updating: T-cf-discr+-100+-2019-12-19_13:11:04/SUMMARY-T-cf-discr+-100+-2019-12-19_13:11:04.txt (deflated 92%)\n",
            "updating: T-cf-discr+-100+-2019-12-19_13:11:04/T-cf-discr+-100+-2019-12-19_13:11:04_accuracy_plot.png (deflated 2%)\n",
            "updating: T-cf-discr+-100+-2019-12-19_13:11:04/T-cf-discr+-100+-2019-12-19_13:11:04_generated_plot_e010.png (deflated 4%)\n",
            "updating: T-cf-discr+-100+-2019-12-19_13:11:04/T-cf-discr+-100+-2019-12-19_13:11:04_generated_plot_e020.png (deflated 4%)\n",
            "updating: T-cf-discr+-100+-2019-12-19_13:11:04/T-cf-discr+-100+-2019-12-19_13:11:04_generated_plot_e030.png (deflated 4%)\n",
            "updating: T-cf-discr+-100+-2019-12-19_13:11:04/T-cf-discr+-100+-2019-12-19_13:11:04_generated_plot_e040.png (deflated 4%)\n",
            "updating: T-cf-discr+-100+-2019-12-19_13:11:04/T-cf-discr+-100+-2019-12-19_13:11:04_generated_plot_e050.png (deflated 4%)\n",
            "updating: T-cf-discr+-100+-2019-12-19_13:11:04/T-cf-discr+-100+-2019-12-19_13:11:04_generated_plot_e060.png (deflated 4%)\n",
            "updating: T-cf-discr+-100+-2019-12-19_13:11:04/T-cf-discr+-100+-2019-12-19_13:11:04_generated_plot_e070.png (deflated 4%)\n",
            "updating: T-cf-discr+-100+-2019-12-19_13:11:04/T-cf-discr+-100+-2019-12-19_13:11:04_generated_plot_e080.png (deflated 4%)\n",
            "updating: T-cf-discr+-100+-2019-12-19_13:11:04/T-cf-discr+-100+-2019-12-19_13:11:04_generated_plot_e090.png (deflated 4%)\n",
            "updating: T-cf-discr+-100+-2019-12-19_13:11:04/T-cf-discr+-100+-2019-12-19_13:11:04_generated_plot_e100.png (deflated 4%)\n",
            "updating: T-cf-discr+-100+-2019-12-19_13:11:04/T-cf-discr+-100+-2019-12-19_13:11:04_loss_plot.png (deflated 2%)\n"
          ],
          "name": "stdout"
        }
      ]
    },
    {
      "cell_type": "code",
      "metadata": {
        "id": "CghWpOdhkYVs",
        "colab_type": "code",
        "colab": {}
      },
      "source": [
        "! rm -rf TANH-crazy-filters-2019-12-19_11:06:33"
      ],
      "execution_count": 0,
      "outputs": []
    },
    {
      "cell_type": "code",
      "metadata": {
        "id": "ESMOelrUtC8h",
        "colab_type": "code",
        "colab": {}
      },
      "source": [
        ""
      ],
      "execution_count": 0,
      "outputs": []
    }
  ]
}